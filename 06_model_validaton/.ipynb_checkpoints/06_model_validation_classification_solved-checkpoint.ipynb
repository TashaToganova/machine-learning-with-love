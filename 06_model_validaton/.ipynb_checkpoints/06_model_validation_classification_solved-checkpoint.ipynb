{
 "cells": [
  {
   "cell_type": "markdown",
   "metadata": {},
   "source": [
    "# HSE Машинное обучение и майнинг данных\n",
    "\n",
    "## Семинар 6 Часть 2: Задачи классификации\n",
    "\n",
    "\n",
    "### Екатерина Кондратьева\n",
    "\n",
    "# Оценка качества алгоритмов машинного обучения. Кросс-валидация. "
   ]
  },
  {
   "cell_type": "markdown",
   "metadata": {},
   "source": [
    "![](attrition.jpg)"
   ]
  },
  {
   "cell_type": "markdown",
   "metadata": {},
   "source": [
    "Мы попробуем на данных из Kaggle обучить модель машинного обучения, которая будет предсказывать отток сотрудников.\n",
    "https://www.kaggle.com/patelprashant/employee-attrition"
   ]
  },
  {
   "cell_type": "code",
   "execution_count": 109,
   "metadata": {
    "_cell_guid": "cfdaacbc-23a3-423d-8d4d-120939ac7383"
   },
   "outputs": [],
   "source": [
    "#linear algebra\n",
    "import numpy as np\n",
    "#data structures\n",
    "import pandas as pd\n",
    "#ml models\n",
    "import scipy as sp\n",
    "import sklearn\n",
    "from sklearn import datasets\n",
    "from sklearn.linear_model import LinearRegression, LogisticRegression\n",
    "from sklearn import metrics\n",
    "from sklearn.metrics import accuracy_score\n",
    "from sklearn.svm import SVR\n",
    "#plots\n",
    "import matplotlib.pyplot as plt\n",
    "%matplotlib inline\n",
    "#beautiful plots\n",
    "import seaborn as sns\n",
    "#linear regression\n",
    "import statsmodels.api as sm\n",
    "#set style for plots\n",
    "sns.set_style('darkgrid')\n",
    "#off the warnings\n",
    "import warnings\n",
    "warnings.filterwarnings(\"ignore\")"
   ]
  },
  {
   "cell_type": "markdown",
   "metadata": {},
   "source": [
    "**Шаг 1.2. Загрузим данные**"
   ]
  },
  {
   "cell_type": "code",
   "execution_count": 110,
   "metadata": {
    "_cell_guid": "3ab4c525-a5cb-4183-9468-c1dd005c4c78"
   },
   "outputs": [],
   "source": [
    "training_data = pd.read_csv('training_data.csv')"
   ]
  },
  {
   "cell_type": "markdown",
   "metadata": {},
   "source": [
    "Посмотрим на данные "
   ]
  },
  {
   "cell_type": "code",
   "execution_count": 111,
   "metadata": {},
   "outputs": [
    {
     "data": {
      "text/plain": [
       "(3308, 20)"
      ]
     },
     "execution_count": 111,
     "metadata": {},
     "output_type": "execute_result"
    }
   ],
   "source": [
    "training_data.shape"
   ]
  },
  {
   "cell_type": "code",
   "execution_count": 112,
   "metadata": {},
   "outputs": [
    {
     "data": {
      "text/html": [
       "<div>\n",
       "<style scoped>\n",
       "    .dataframe tbody tr th:only-of-type {\n",
       "        vertical-align: middle;\n",
       "    }\n",
       "\n",
       "    .dataframe tbody tr th {\n",
       "        vertical-align: top;\n",
       "    }\n",
       "\n",
       "    .dataframe thead th {\n",
       "        text-align: right;\n",
       "    }\n",
       "</style>\n",
       "<table border=\"1\" class=\"dataframe\">\n",
       "  <thead>\n",
       "    <tr style=\"text-align: right;\">\n",
       "      <th></th>\n",
       "      <th>Age</th>\n",
       "      <th>BusinessTravel</th>\n",
       "      <th>Department</th>\n",
       "      <th>DistanceFromHome</th>\n",
       "      <th>Education</th>\n",
       "      <th>EducationField</th>\n",
       "      <th>Gender</th>\n",
       "      <th>JobRole</th>\n",
       "      <th>MaritalStatus</th>\n",
       "      <th>MonthlyIncome</th>\n",
       "      <th>NumCompaniesWorked</th>\n",
       "      <th>PercentSalaryHike</th>\n",
       "      <th>StandardHours</th>\n",
       "      <th>StockOptionLevel</th>\n",
       "      <th>TotalWorkingYears</th>\n",
       "      <th>TrainingTimesLastYear</th>\n",
       "      <th>YearsAtCompany</th>\n",
       "      <th>YearsSinceLastPromotion</th>\n",
       "      <th>YearsWithCurrManager</th>\n",
       "      <th>Attrition</th>\n",
       "    </tr>\n",
       "  </thead>\n",
       "  <tbody>\n",
       "    <tr>\n",
       "      <td>0</td>\n",
       "      <td>51</td>\n",
       "      <td>Travel_Rarely</td>\n",
       "      <td>Sales</td>\n",
       "      <td>6</td>\n",
       "      <td>2</td>\n",
       "      <td>Life Sciences</td>\n",
       "      <td>Female</td>\n",
       "      <td>Healthcare Representative</td>\n",
       "      <td>Married</td>\n",
       "      <td>131160</td>\n",
       "      <td>1.0</td>\n",
       "      <td>11</td>\n",
       "      <td>8</td>\n",
       "      <td>0</td>\n",
       "      <td>1.0</td>\n",
       "      <td>6</td>\n",
       "      <td>1</td>\n",
       "      <td>0</td>\n",
       "      <td>0</td>\n",
       "      <td>0</td>\n",
       "    </tr>\n",
       "    <tr>\n",
       "      <td>1</td>\n",
       "      <td>31</td>\n",
       "      <td>Travel_Frequently</td>\n",
       "      <td>Research &amp; Development</td>\n",
       "      <td>10</td>\n",
       "      <td>1</td>\n",
       "      <td>Life Sciences</td>\n",
       "      <td>Female</td>\n",
       "      <td>Research Scientist</td>\n",
       "      <td>Single</td>\n",
       "      <td>41890</td>\n",
       "      <td>0.0</td>\n",
       "      <td>23</td>\n",
       "      <td>8</td>\n",
       "      <td>1</td>\n",
       "      <td>6.0</td>\n",
       "      <td>3</td>\n",
       "      <td>5</td>\n",
       "      <td>1</td>\n",
       "      <td>4</td>\n",
       "      <td>1</td>\n",
       "    </tr>\n",
       "    <tr>\n",
       "      <td>2</td>\n",
       "      <td>32</td>\n",
       "      <td>Travel_Frequently</td>\n",
       "      <td>Research &amp; Development</td>\n",
       "      <td>17</td>\n",
       "      <td>4</td>\n",
       "      <td>Other</td>\n",
       "      <td>Male</td>\n",
       "      <td>Sales Executive</td>\n",
       "      <td>Married</td>\n",
       "      <td>193280</td>\n",
       "      <td>1.0</td>\n",
       "      <td>15</td>\n",
       "      <td>8</td>\n",
       "      <td>3</td>\n",
       "      <td>5.0</td>\n",
       "      <td>2</td>\n",
       "      <td>5</td>\n",
       "      <td>0</td>\n",
       "      <td>3</td>\n",
       "      <td>0</td>\n",
       "    </tr>\n",
       "    <tr>\n",
       "      <td>3</td>\n",
       "      <td>38</td>\n",
       "      <td>Non-Travel</td>\n",
       "      <td>Research &amp; Development</td>\n",
       "      <td>2</td>\n",
       "      <td>5</td>\n",
       "      <td>Life Sciences</td>\n",
       "      <td>Male</td>\n",
       "      <td>Human Resources</td>\n",
       "      <td>Married</td>\n",
       "      <td>83210</td>\n",
       "      <td>3.0</td>\n",
       "      <td>11</td>\n",
       "      <td>8</td>\n",
       "      <td>3</td>\n",
       "      <td>13.0</td>\n",
       "      <td>5</td>\n",
       "      <td>8</td>\n",
       "      <td>7</td>\n",
       "      <td>5</td>\n",
       "      <td>0</td>\n",
       "    </tr>\n",
       "    <tr>\n",
       "      <td>4</td>\n",
       "      <td>32</td>\n",
       "      <td>Travel_Rarely</td>\n",
       "      <td>Research &amp; Development</td>\n",
       "      <td>10</td>\n",
       "      <td>1</td>\n",
       "      <td>Medical</td>\n",
       "      <td>Male</td>\n",
       "      <td>Sales Executive</td>\n",
       "      <td>Single</td>\n",
       "      <td>23420</td>\n",
       "      <td>4.0</td>\n",
       "      <td>12</td>\n",
       "      <td>8</td>\n",
       "      <td>2</td>\n",
       "      <td>9.0</td>\n",
       "      <td>2</td>\n",
       "      <td>6</td>\n",
       "      <td>0</td>\n",
       "      <td>4</td>\n",
       "      <td>0</td>\n",
       "    </tr>\n",
       "  </tbody>\n",
       "</table>\n",
       "</div>"
      ],
      "text/plain": [
       "   Age     BusinessTravel              Department  DistanceFromHome  \\\n",
       "0   51      Travel_Rarely                   Sales                 6   \n",
       "1   31  Travel_Frequently  Research & Development                10   \n",
       "2   32  Travel_Frequently  Research & Development                17   \n",
       "3   38         Non-Travel  Research & Development                 2   \n",
       "4   32      Travel_Rarely  Research & Development                10   \n",
       "\n",
       "   Education EducationField  Gender                    JobRole MaritalStatus  \\\n",
       "0          2  Life Sciences  Female  Healthcare Representative       Married   \n",
       "1          1  Life Sciences  Female         Research Scientist        Single   \n",
       "2          4          Other    Male            Sales Executive       Married   \n",
       "3          5  Life Sciences    Male            Human Resources       Married   \n",
       "4          1        Medical    Male            Sales Executive        Single   \n",
       "\n",
       "   MonthlyIncome  NumCompaniesWorked  PercentSalaryHike  StandardHours  \\\n",
       "0         131160                 1.0                 11              8   \n",
       "1          41890                 0.0                 23              8   \n",
       "2         193280                 1.0                 15              8   \n",
       "3          83210                 3.0                 11              8   \n",
       "4          23420                 4.0                 12              8   \n",
       "\n",
       "   StockOptionLevel  TotalWorkingYears  TrainingTimesLastYear  YearsAtCompany  \\\n",
       "0                 0                1.0                      6               1   \n",
       "1                 1                6.0                      3               5   \n",
       "2                 3                5.0                      2               5   \n",
       "3                 3               13.0                      5               8   \n",
       "4                 2                9.0                      2               6   \n",
       "\n",
       "   YearsSinceLastPromotion  YearsWithCurrManager  Attrition  \n",
       "0                        0                     0          0  \n",
       "1                        1                     4          1  \n",
       "2                        0                     3          0  \n",
       "3                        7                     5          0  \n",
       "4                        0                     4          0  "
      ]
     },
     "execution_count": 112,
     "metadata": {},
     "output_type": "execute_result"
    }
   ],
   "source": [
    "training_data.head()"
   ]
  },
  {
   "cell_type": "code",
   "execution_count": 113,
   "metadata": {
    "scrolled": true
   },
   "outputs": [
    {
     "data": {
      "text/html": [
       "<div>\n",
       "<style scoped>\n",
       "    .dataframe tbody tr th:only-of-type {\n",
       "        vertical-align: middle;\n",
       "    }\n",
       "\n",
       "    .dataframe tbody tr th {\n",
       "        vertical-align: top;\n",
       "    }\n",
       "\n",
       "    .dataframe thead th {\n",
       "        text-align: right;\n",
       "    }\n",
       "</style>\n",
       "<table border=\"1\" class=\"dataframe\">\n",
       "  <thead>\n",
       "    <tr style=\"text-align: right;\">\n",
       "      <th></th>\n",
       "      <th>count</th>\n",
       "      <th>mean</th>\n",
       "      <th>std</th>\n",
       "      <th>min</th>\n",
       "      <th>25%</th>\n",
       "      <th>50%</th>\n",
       "      <th>75%</th>\n",
       "      <th>max</th>\n",
       "    </tr>\n",
       "  </thead>\n",
       "  <tbody>\n",
       "    <tr>\n",
       "      <td>Age</td>\n",
       "      <td>3308.0</td>\n",
       "      <td>36.879383</td>\n",
       "      <td>9.146506</td>\n",
       "      <td>18.0</td>\n",
       "      <td>30.0</td>\n",
       "      <td>36.0</td>\n",
       "      <td>43.0</td>\n",
       "      <td>60.0</td>\n",
       "    </tr>\n",
       "    <tr>\n",
       "      <td>DistanceFromHome</td>\n",
       "      <td>3308.0</td>\n",
       "      <td>9.201935</td>\n",
       "      <td>8.078147</td>\n",
       "      <td>1.0</td>\n",
       "      <td>2.0</td>\n",
       "      <td>7.0</td>\n",
       "      <td>14.0</td>\n",
       "      <td>29.0</td>\n",
       "    </tr>\n",
       "    <tr>\n",
       "      <td>Education</td>\n",
       "      <td>3308.0</td>\n",
       "      <td>2.918380</td>\n",
       "      <td>1.024933</td>\n",
       "      <td>1.0</td>\n",
       "      <td>2.0</td>\n",
       "      <td>3.0</td>\n",
       "      <td>4.0</td>\n",
       "      <td>5.0</td>\n",
       "    </tr>\n",
       "    <tr>\n",
       "      <td>MonthlyIncome</td>\n",
       "      <td>3308.0</td>\n",
       "      <td>64594.903265</td>\n",
       "      <td>46744.260986</td>\n",
       "      <td>10090.0</td>\n",
       "      <td>29040.0</td>\n",
       "      <td>49070.0</td>\n",
       "      <td>83210.0</td>\n",
       "      <td>199990.0</td>\n",
       "    </tr>\n",
       "    <tr>\n",
       "      <td>NumCompaniesWorked</td>\n",
       "      <td>3293.0</td>\n",
       "      <td>2.703310</td>\n",
       "      <td>2.506197</td>\n",
       "      <td>0.0</td>\n",
       "      <td>1.0</td>\n",
       "      <td>2.0</td>\n",
       "      <td>4.0</td>\n",
       "      <td>9.0</td>\n",
       "    </tr>\n",
       "    <tr>\n",
       "      <td>PercentSalaryHike</td>\n",
       "      <td>3308.0</td>\n",
       "      <td>15.230048</td>\n",
       "      <td>3.672812</td>\n",
       "      <td>11.0</td>\n",
       "      <td>12.0</td>\n",
       "      <td>14.0</td>\n",
       "      <td>18.0</td>\n",
       "      <td>25.0</td>\n",
       "    </tr>\n",
       "    <tr>\n",
       "      <td>StandardHours</td>\n",
       "      <td>3308.0</td>\n",
       "      <td>8.000000</td>\n",
       "      <td>0.000000</td>\n",
       "      <td>8.0</td>\n",
       "      <td>8.0</td>\n",
       "      <td>8.0</td>\n",
       "      <td>8.0</td>\n",
       "      <td>8.0</td>\n",
       "    </tr>\n",
       "    <tr>\n",
       "      <td>StockOptionLevel</td>\n",
       "      <td>3308.0</td>\n",
       "      <td>0.804716</td>\n",
       "      <td>0.860350</td>\n",
       "      <td>0.0</td>\n",
       "      <td>0.0</td>\n",
       "      <td>1.0</td>\n",
       "      <td>1.0</td>\n",
       "      <td>3.0</td>\n",
       "    </tr>\n",
       "    <tr>\n",
       "      <td>TotalWorkingYears</td>\n",
       "      <td>3301.0</td>\n",
       "      <td>11.283248</td>\n",
       "      <td>7.791024</td>\n",
       "      <td>0.0</td>\n",
       "      <td>6.0</td>\n",
       "      <td>10.0</td>\n",
       "      <td>15.0</td>\n",
       "      <td>40.0</td>\n",
       "    </tr>\n",
       "    <tr>\n",
       "      <td>TrainingTimesLastYear</td>\n",
       "      <td>3308.0</td>\n",
       "      <td>2.801995</td>\n",
       "      <td>1.290718</td>\n",
       "      <td>0.0</td>\n",
       "      <td>2.0</td>\n",
       "      <td>3.0</td>\n",
       "      <td>3.0</td>\n",
       "      <td>6.0</td>\n",
       "    </tr>\n",
       "    <tr>\n",
       "      <td>YearsAtCompany</td>\n",
       "      <td>3308.0</td>\n",
       "      <td>6.998791</td>\n",
       "      <td>6.135502</td>\n",
       "      <td>0.0</td>\n",
       "      <td>3.0</td>\n",
       "      <td>5.0</td>\n",
       "      <td>9.0</td>\n",
       "      <td>40.0</td>\n",
       "    </tr>\n",
       "    <tr>\n",
       "      <td>YearsSinceLastPromotion</td>\n",
       "      <td>3308.0</td>\n",
       "      <td>2.187122</td>\n",
       "      <td>3.217035</td>\n",
       "      <td>0.0</td>\n",
       "      <td>0.0</td>\n",
       "      <td>1.0</td>\n",
       "      <td>3.0</td>\n",
       "      <td>15.0</td>\n",
       "    </tr>\n",
       "    <tr>\n",
       "      <td>YearsWithCurrManager</td>\n",
       "      <td>3308.0</td>\n",
       "      <td>4.118501</td>\n",
       "      <td>3.560423</td>\n",
       "      <td>0.0</td>\n",
       "      <td>2.0</td>\n",
       "      <td>3.0</td>\n",
       "      <td>7.0</td>\n",
       "      <td>17.0</td>\n",
       "    </tr>\n",
       "    <tr>\n",
       "      <td>Attrition</td>\n",
       "      <td>3308.0</td>\n",
       "      <td>0.160218</td>\n",
       "      <td>0.366863</td>\n",
       "      <td>0.0</td>\n",
       "      <td>0.0</td>\n",
       "      <td>0.0</td>\n",
       "      <td>0.0</td>\n",
       "      <td>1.0</td>\n",
       "    </tr>\n",
       "  </tbody>\n",
       "</table>\n",
       "</div>"
      ],
      "text/plain": [
       "                          count          mean           std      min      25%  \\\n",
       "Age                      3308.0     36.879383      9.146506     18.0     30.0   \n",
       "DistanceFromHome         3308.0      9.201935      8.078147      1.0      2.0   \n",
       "Education                3308.0      2.918380      1.024933      1.0      2.0   \n",
       "MonthlyIncome            3308.0  64594.903265  46744.260986  10090.0  29040.0   \n",
       "NumCompaniesWorked       3293.0      2.703310      2.506197      0.0      1.0   \n",
       "PercentSalaryHike        3308.0     15.230048      3.672812     11.0     12.0   \n",
       "StandardHours            3308.0      8.000000      0.000000      8.0      8.0   \n",
       "StockOptionLevel         3308.0      0.804716      0.860350      0.0      0.0   \n",
       "TotalWorkingYears        3301.0     11.283248      7.791024      0.0      6.0   \n",
       "TrainingTimesLastYear    3308.0      2.801995      1.290718      0.0      2.0   \n",
       "YearsAtCompany           3308.0      6.998791      6.135502      0.0      3.0   \n",
       "YearsSinceLastPromotion  3308.0      2.187122      3.217035      0.0      0.0   \n",
       "YearsWithCurrManager     3308.0      4.118501      3.560423      0.0      2.0   \n",
       "Attrition                3308.0      0.160218      0.366863      0.0      0.0   \n",
       "\n",
       "                             50%      75%       max  \n",
       "Age                         36.0     43.0      60.0  \n",
       "DistanceFromHome             7.0     14.0      29.0  \n",
       "Education                    3.0      4.0       5.0  \n",
       "MonthlyIncome            49070.0  83210.0  199990.0  \n",
       "NumCompaniesWorked           2.0      4.0       9.0  \n",
       "PercentSalaryHike           14.0     18.0      25.0  \n",
       "StandardHours                8.0      8.0       8.0  \n",
       "StockOptionLevel             1.0      1.0       3.0  \n",
       "TotalWorkingYears           10.0     15.0      40.0  \n",
       "TrainingTimesLastYear        3.0      3.0       6.0  \n",
       "YearsAtCompany               5.0      9.0      40.0  \n",
       "YearsSinceLastPromotion      1.0      3.0      15.0  \n",
       "YearsWithCurrManager         3.0      7.0      17.0  \n",
       "Attrition                    0.0      0.0       1.0  "
      ]
     },
     "execution_count": 113,
     "metadata": {},
     "output_type": "execute_result"
    }
   ],
   "source": [
    "training_data.describe().T"
   ]
  },
  {
   "cell_type": "markdown",
   "metadata": {},
   "source": [
    "Из таких характеристик столбцов мы уже можем извлечь некоторую информацию о данных:\n",
    "* **Attrition** среднее 0.160. Значит, в нашей выборке только 16% сотрудников ушли из компании.\n",
    "* **MonthlyIncome** существенно отличается масштаб значений: минимальное значение дохода - 10090, максимальное - 199990.\n",
    "* **NumCompaniesWorked** и **TotalWorkingYears** есть пропуски."
   ]
  },
  {
   "cell_type": "markdown",
   "metadata": {},
   "source": [
    "## 2. Обработать данные перед обучением модели"
   ]
  },
  {
   "cell_type": "code",
   "execution_count": 114,
   "metadata": {},
   "outputs": [
    {
     "name": "stdout",
     "output_type": "stream",
     "text": [
      "<class 'pandas.core.frame.DataFrame'>\n",
      "RangeIndex: 3308 entries, 0 to 3307\n",
      "Data columns (total 20 columns):\n",
      "Age                        3308 non-null int64\n",
      "BusinessTravel             3308 non-null object\n",
      "Department                 3308 non-null object\n",
      "DistanceFromHome           3308 non-null int64\n",
      "Education                  3308 non-null int64\n",
      "EducationField             3308 non-null object\n",
      "Gender                     3308 non-null object\n",
      "JobRole                    3308 non-null object\n",
      "MaritalStatus              3308 non-null object\n",
      "MonthlyIncome              3308 non-null int64\n",
      "NumCompaniesWorked         3293 non-null float64\n",
      "PercentSalaryHike          3308 non-null int64\n",
      "StandardHours              3308 non-null int64\n",
      "StockOptionLevel           3308 non-null int64\n",
      "TotalWorkingYears          3301 non-null float64\n",
      "TrainingTimesLastYear      3308 non-null int64\n",
      "YearsAtCompany             3308 non-null int64\n",
      "YearsSinceLastPromotion    3308 non-null int64\n",
      "YearsWithCurrManager       3308 non-null int64\n",
      "Attrition                  3308 non-null int64\n",
      "dtypes: float64(2), int64(12), object(6)\n",
      "memory usage: 517.0+ KB\n"
     ]
    }
   ],
   "source": [
    "training_data.info()"
   ]
  },
  {
   "cell_type": "markdown",
   "metadata": {},
   "source": [
    "**Заполнение пропусков**\n",
    "\n",
    "Рассчитаем средние значения признаков в обучающей выборке, и заполним полученными\n",
    "числами пропуски как в **тестовом наборе** данных, так и в **самой обучающей выборке**.\n",
    "\n",
    "Мы будем заполнять средними значениями из обучающей выборки, так как при решении реальной задачи нам будут доступны только данные для обучения.\n",
    "\n",
    "Для получения средних значений вызовем метод **`mean()`**. По умолчанию метод считает средним значения по столбцам. После выполнения ячейки средние значения записаны в переменной *`train_mean`*\n",
    "\n"
   ]
  },
  {
   "cell_type": "code",
   "execution_count": 115,
   "metadata": {},
   "outputs": [
    {
     "data": {
      "text/plain": [
       "Age                           36.0\n",
       "DistanceFromHome               7.0\n",
       "Education                      3.0\n",
       "MonthlyIncome              49070.0\n",
       "NumCompaniesWorked             2.0\n",
       "PercentSalaryHike             14.0\n",
       "StandardHours                  8.0\n",
       "StockOptionLevel               1.0\n",
       "TotalWorkingYears             10.0\n",
       "TrainingTimesLastYear          3.0\n",
       "YearsAtCompany                 5.0\n",
       "YearsSinceLastPromotion        1.0\n",
       "YearsWithCurrManager           3.0\n",
       "Attrition                      0.0\n",
       "dtype: float64"
      ]
     },
     "execution_count": 115,
     "metadata": {},
     "output_type": "execute_result"
    }
   ],
   "source": [
    "train_mean = training_data.median()\n",
    "train_mean"
   ]
  },
  {
   "cell_type": "code",
   "execution_count": 116,
   "metadata": {},
   "outputs": [],
   "source": [
    "training_data.fillna(train_mean, inplace=True)"
   ]
  },
  {
   "cell_type": "markdown",
   "metadata": {},
   "source": [
    "## Распределение таргетов в выборке"
   ]
  },
  {
   "cell_type": "code",
   "execution_count": 117,
   "metadata": {},
   "outputs": [],
   "source": [
    "target_variable_name = 'Attrition'"
   ]
  },
  {
   "cell_type": "code",
   "execution_count": 118,
   "metadata": {},
   "outputs": [],
   "source": [
    "training_values = training_data[target_variable_name]"
   ]
  },
  {
   "cell_type": "code",
   "execution_count": 119,
   "metadata": {},
   "outputs": [
    {
     "data": {
      "text/plain": [
       "0    2778\n",
       "1     530\n",
       "Name: Attrition, dtype: int64"
      ]
     },
     "execution_count": 119,
     "metadata": {},
     "output_type": "execute_result"
    }
   ],
   "source": [
    "training_data[target_variable_name].value_counts()"
   ]
  },
  {
   "cell_type": "code",
   "execution_count": 120,
   "metadata": {},
   "outputs": [
    {
     "name": "stdout",
     "output_type": "stream",
     "text": [
      "0.19078473722102232\n"
     ]
    }
   ],
   "source": [
    "beta = 530/2778\n",
    "print(beta)"
   ]
  },
  {
   "cell_type": "markdown",
   "metadata": {},
   "source": [
    "Отделим входные переменные от выходной (целевой), чтобы можно было построить модель предсказания целевой переменной по входным. Для это нужно у переменной *`training_data`* вызвать метод **`drop()`**."
   ]
  },
  {
   "cell_type": "code",
   "execution_count": 121,
   "metadata": {},
   "outputs": [],
   "source": [
    "training_points = training_data.drop(target_variable_name, axis=1)"
   ]
  },
  {
   "cell_type": "code",
   "execution_count": 122,
   "metadata": {},
   "outputs": [
    {
     "data": {
      "text/plain": [
       "(3308, 19)"
      ]
     },
     "execution_count": 122,
     "metadata": {},
     "output_type": "execute_result"
    }
   ],
   "source": [
    "training_points.shape"
   ]
  },
  {
   "cell_type": "markdown",
   "metadata": {},
   "source": [
    "Видно, что столбца действительно нет, а количество строк не изменилось. "
   ]
  },
  {
   "cell_type": "markdown",
   "metadata": {},
   "source": [
    "## 3. Загрузить и предобработать данные для тестирования"
   ]
  },
  {
   "cell_type": "code",
   "execution_count": 123,
   "metadata": {},
   "outputs": [],
   "source": [
    "test_data = pd.read_csv('test_data.csv')"
   ]
  },
  {
   "cell_type": "code",
   "execution_count": 124,
   "metadata": {},
   "outputs": [],
   "source": [
    "test_data.fillna(train_mean, inplace=True)"
   ]
  },
  {
   "cell_type": "markdown",
   "metadata": {},
   "source": [
    "#### Почему мы заполняем переменной из `train_data`?"
   ]
  },
  {
   "cell_type": "code",
   "execution_count": 125,
   "metadata": {},
   "outputs": [],
   "source": [
    "test_values = test_data[target_variable_name]"
   ]
  },
  {
   "cell_type": "markdown",
   "metadata": {},
   "source": [
    "Отделим переменные для модели от выходной переменной (целевой). Для это нужно у переменной *`test_data`* нужно вызвать метод **`drop()`**."
   ]
  },
  {
   "cell_type": "code",
   "execution_count": 126,
   "metadata": {},
   "outputs": [],
   "source": [
    "test_points = test_data.drop(target_variable_name, axis=1)"
   ]
  },
  {
   "cell_type": "markdown",
   "metadata": {},
   "source": [
    "И проверяем результат записанный в test_points"
   ]
  },
  {
   "cell_type": "code",
   "execution_count": 127,
   "metadata": {},
   "outputs": [
    {
     "data": {
      "text/html": [
       "<div>\n",
       "<style scoped>\n",
       "    .dataframe tbody tr th:only-of-type {\n",
       "        vertical-align: middle;\n",
       "    }\n",
       "\n",
       "    .dataframe tbody tr th {\n",
       "        vertical-align: top;\n",
       "    }\n",
       "\n",
       "    .dataframe thead th {\n",
       "        text-align: right;\n",
       "    }\n",
       "</style>\n",
       "<table border=\"1\" class=\"dataframe\">\n",
       "  <thead>\n",
       "    <tr style=\"text-align: right;\">\n",
       "      <th></th>\n",
       "      <th>Age</th>\n",
       "      <th>BusinessTravel</th>\n",
       "      <th>Department</th>\n",
       "      <th>DistanceFromHome</th>\n",
       "      <th>Education</th>\n",
       "      <th>EducationField</th>\n",
       "      <th>Gender</th>\n",
       "      <th>JobRole</th>\n",
       "      <th>MaritalStatus</th>\n",
       "      <th>MonthlyIncome</th>\n",
       "      <th>NumCompaniesWorked</th>\n",
       "      <th>PercentSalaryHike</th>\n",
       "      <th>StandardHours</th>\n",
       "      <th>StockOptionLevel</th>\n",
       "      <th>TotalWorkingYears</th>\n",
       "      <th>TrainingTimesLastYear</th>\n",
       "      <th>YearsAtCompany</th>\n",
       "      <th>YearsSinceLastPromotion</th>\n",
       "      <th>YearsWithCurrManager</th>\n",
       "    </tr>\n",
       "  </thead>\n",
       "  <tbody>\n",
       "    <tr>\n",
       "      <td>0</td>\n",
       "      <td>32</td>\n",
       "      <td>Travel_Rarely</td>\n",
       "      <td>Sales</td>\n",
       "      <td>10</td>\n",
       "      <td>3</td>\n",
       "      <td>Marketing</td>\n",
       "      <td>Female</td>\n",
       "      <td>Human Resources</td>\n",
       "      <td>Married</td>\n",
       "      <td>30720</td>\n",
       "      <td>5.0</td>\n",
       "      <td>12</td>\n",
       "      <td>8</td>\n",
       "      <td>0</td>\n",
       "      <td>9.0</td>\n",
       "      <td>4</td>\n",
       "      <td>5</td>\n",
       "      <td>1</td>\n",
       "      <td>3</td>\n",
       "    </tr>\n",
       "    <tr>\n",
       "      <td>1</td>\n",
       "      <td>52</td>\n",
       "      <td>Travel_Frequently</td>\n",
       "      <td>Research &amp; Development</td>\n",
       "      <td>1</td>\n",
       "      <td>1</td>\n",
       "      <td>Life Sciences</td>\n",
       "      <td>Male</td>\n",
       "      <td>Laboratory Technician</td>\n",
       "      <td>Married</td>\n",
       "      <td>50060</td>\n",
       "      <td>3.0</td>\n",
       "      <td>16</td>\n",
       "      <td>8</td>\n",
       "      <td>1</td>\n",
       "      <td>31.0</td>\n",
       "      <td>2</td>\n",
       "      <td>9</td>\n",
       "      <td>0</td>\n",
       "      <td>0</td>\n",
       "    </tr>\n",
       "    <tr>\n",
       "      <td>2</td>\n",
       "      <td>37</td>\n",
       "      <td>Travel_Rarely</td>\n",
       "      <td>Sales</td>\n",
       "      <td>24</td>\n",
       "      <td>2</td>\n",
       "      <td>Life Sciences</td>\n",
       "      <td>Female</td>\n",
       "      <td>Laboratory Technician</td>\n",
       "      <td>Divorced</td>\n",
       "      <td>42570</td>\n",
       "      <td>4.0</td>\n",
       "      <td>15</td>\n",
       "      <td>8</td>\n",
       "      <td>0</td>\n",
       "      <td>9.0</td>\n",
       "      <td>2</td>\n",
       "      <td>1</td>\n",
       "      <td>0</td>\n",
       "      <td>0</td>\n",
       "    </tr>\n",
       "    <tr>\n",
       "      <td>3</td>\n",
       "      <td>28</td>\n",
       "      <td>Travel_Rarely</td>\n",
       "      <td>Research &amp; Development</td>\n",
       "      <td>21</td>\n",
       "      <td>4</td>\n",
       "      <td>Life Sciences</td>\n",
       "      <td>Female</td>\n",
       "      <td>Healthcare Representative</td>\n",
       "      <td>Divorced</td>\n",
       "      <td>25000</td>\n",
       "      <td>1.0</td>\n",
       "      <td>16</td>\n",
       "      <td>8</td>\n",
       "      <td>2</td>\n",
       "      <td>6.0</td>\n",
       "      <td>3</td>\n",
       "      <td>5</td>\n",
       "      <td>0</td>\n",
       "      <td>4</td>\n",
       "    </tr>\n",
       "    <tr>\n",
       "      <td>4</td>\n",
       "      <td>22</td>\n",
       "      <td>Travel_Rarely</td>\n",
       "      <td>Research &amp; Development</td>\n",
       "      <td>2</td>\n",
       "      <td>2</td>\n",
       "      <td>Life Sciences</td>\n",
       "      <td>Male</td>\n",
       "      <td>Sales Representative</td>\n",
       "      <td>Married</td>\n",
       "      <td>11020</td>\n",
       "      <td>6.0</td>\n",
       "      <td>19</td>\n",
       "      <td>8</td>\n",
       "      <td>0</td>\n",
       "      <td>4.0</td>\n",
       "      <td>3</td>\n",
       "      <td>2</td>\n",
       "      <td>2</td>\n",
       "      <td>2</td>\n",
       "    </tr>\n",
       "  </tbody>\n",
       "</table>\n",
       "</div>"
      ],
      "text/plain": [
       "   Age     BusinessTravel              Department  DistanceFromHome  \\\n",
       "0   32      Travel_Rarely                   Sales                10   \n",
       "1   52  Travel_Frequently  Research & Development                 1   \n",
       "2   37      Travel_Rarely                   Sales                24   \n",
       "3   28      Travel_Rarely  Research & Development                21   \n",
       "4   22      Travel_Rarely  Research & Development                 2   \n",
       "\n",
       "   Education EducationField  Gender                    JobRole MaritalStatus  \\\n",
       "0          3      Marketing  Female            Human Resources       Married   \n",
       "1          1  Life Sciences    Male      Laboratory Technician       Married   \n",
       "2          2  Life Sciences  Female      Laboratory Technician      Divorced   \n",
       "3          4  Life Sciences  Female  Healthcare Representative      Divorced   \n",
       "4          2  Life Sciences    Male       Sales Representative       Married   \n",
       "\n",
       "   MonthlyIncome  NumCompaniesWorked  PercentSalaryHike  StandardHours  \\\n",
       "0          30720                 5.0                 12              8   \n",
       "1          50060                 3.0                 16              8   \n",
       "2          42570                 4.0                 15              8   \n",
       "3          25000                 1.0                 16              8   \n",
       "4          11020                 6.0                 19              8   \n",
       "\n",
       "   StockOptionLevel  TotalWorkingYears  TrainingTimesLastYear  YearsAtCompany  \\\n",
       "0                 0                9.0                      4               5   \n",
       "1                 1               31.0                      2               9   \n",
       "2                 0                9.0                      2               1   \n",
       "3                 2                6.0                      3               5   \n",
       "4                 0                4.0                      3               2   \n",
       "\n",
       "   YearsSinceLastPromotion  YearsWithCurrManager  \n",
       "0                        1                     3  \n",
       "1                        0                     0  \n",
       "2                        0                     0  \n",
       "3                        0                     4  \n",
       "4                        2                     2  "
      ]
     },
     "execution_count": 127,
     "metadata": {},
     "output_type": "execute_result"
    }
   ],
   "source": [
    "test_points.head()"
   ]
  },
  {
   "cell_type": "code",
   "execution_count": 128,
   "metadata": {},
   "outputs": [
    {
     "data": {
      "text/plain": [
       "Research & Development    706\n",
       "Sales                     342\n",
       "Human Resources            54\n",
       "Name: Department, dtype: int64"
      ]
     },
     "execution_count": 128,
     "metadata": {},
     "output_type": "execute_result"
    }
   ],
   "source": [
    "test_points['Department'].value_counts()"
   ]
  },
  {
   "cell_type": "markdown",
   "metadata": {},
   "source": [
    "##  Обработаем текстовые переменные"
   ]
  },
  {
   "cell_type": "markdown",
   "metadata": {},
   "source": [
    " будем использовать самый простой метод **LabelEncoder()** из библиотеки **sklearn**. "
   ]
  },
  {
   "cell_type": "code",
   "execution_count": null,
   "metadata": {},
   "outputs": [],
   "source": [
    "# Тут мог быть OneHotEncoder():\n",
    "\n",
    "# one_hot_encoded_training_predictors = pd.get_dummies(training_points)\n",
    "# one_hot_encoded_test_predictors = pd.get_dummies(test_points)\n",
    "# training_points, test_points = one_hot_encoded_training_predictors.align(one_hot_encoded_test_predictors, join='left', axis=1)"
   ]
  },
  {
   "cell_type": "code",
   "execution_count": 22,
   "metadata": {},
   "outputs": [],
   "source": [
    "from sklearn.preprocessing import LabelEncoder"
   ]
  },
  {
   "cell_type": "code",
   "execution_count": 23,
   "metadata": {
    "scrolled": true
   },
   "outputs": [
    {
     "data": {
      "text/plain": [
       "Travel_Rarely        2352\n",
       "Travel_Frequently     624\n",
       "Non-Travel            332\n",
       "Name: BusinessTravel, dtype: int64"
      ]
     },
     "execution_count": 23,
     "metadata": {},
     "output_type": "execute_result"
    }
   ],
   "source": [
    "training_points['BusinessTravel'].value_counts()"
   ]
  },
  {
   "cell_type": "code",
   "execution_count": 24,
   "metadata": {},
   "outputs": [],
   "source": [
    "text_features = ['BusinessTravel', 'Department', 'EducationField', 'Gender', 'JobRole', 'MaritalStatus']"
   ]
  },
  {
   "cell_type": "markdown",
   "metadata": {},
   "source": [
    "Сперва создаем прототип кодировщика: "
   ]
  },
  {
   "cell_type": "code",
   "execution_count": 25,
   "metadata": {},
   "outputs": [],
   "source": [
    "label_encoder = LabelEncoder()"
   ]
  },
  {
   "cell_type": "code",
   "execution_count": 26,
   "metadata": {},
   "outputs": [],
   "source": [
    "for col in text_features:\n",
    "    training_points[col] = label_encoder.fit_transform(training_points[col])\n",
    "    test_points[col] = label_encoder.transform(test_points[col])"
   ]
  },
  {
   "cell_type": "markdown",
   "metadata": {},
   "source": [
    "Посмотрим на данные теперь:"
   ]
  },
  {
   "cell_type": "code",
   "execution_count": 27,
   "metadata": {},
   "outputs": [
    {
     "data": {
      "text/html": [
       "<div>\n",
       "<style scoped>\n",
       "    .dataframe tbody tr th:only-of-type {\n",
       "        vertical-align: middle;\n",
       "    }\n",
       "\n",
       "    .dataframe tbody tr th {\n",
       "        vertical-align: top;\n",
       "    }\n",
       "\n",
       "    .dataframe thead th {\n",
       "        text-align: right;\n",
       "    }\n",
       "</style>\n",
       "<table border=\"1\" class=\"dataframe\">\n",
       "  <thead>\n",
       "    <tr style=\"text-align: right;\">\n",
       "      <th></th>\n",
       "      <th>Age</th>\n",
       "      <th>BusinessTravel</th>\n",
       "      <th>Department</th>\n",
       "      <th>DistanceFromHome</th>\n",
       "      <th>Education</th>\n",
       "      <th>EducationField</th>\n",
       "      <th>Gender</th>\n",
       "      <th>JobRole</th>\n",
       "      <th>MaritalStatus</th>\n",
       "      <th>MonthlyIncome</th>\n",
       "      <th>NumCompaniesWorked</th>\n",
       "      <th>PercentSalaryHike</th>\n",
       "      <th>StandardHours</th>\n",
       "      <th>StockOptionLevel</th>\n",
       "      <th>TotalWorkingYears</th>\n",
       "      <th>TrainingTimesLastYear</th>\n",
       "      <th>YearsAtCompany</th>\n",
       "      <th>YearsSinceLastPromotion</th>\n",
       "      <th>YearsWithCurrManager</th>\n",
       "    </tr>\n",
       "  </thead>\n",
       "  <tbody>\n",
       "    <tr>\n",
       "      <td>0</td>\n",
       "      <td>51</td>\n",
       "      <td>2</td>\n",
       "      <td>2</td>\n",
       "      <td>6</td>\n",
       "      <td>2</td>\n",
       "      <td>1</td>\n",
       "      <td>0</td>\n",
       "      <td>0</td>\n",
       "      <td>1</td>\n",
       "      <td>131160</td>\n",
       "      <td>1.0</td>\n",
       "      <td>11</td>\n",
       "      <td>8</td>\n",
       "      <td>0</td>\n",
       "      <td>1.0</td>\n",
       "      <td>6</td>\n",
       "      <td>1</td>\n",
       "      <td>0</td>\n",
       "      <td>0</td>\n",
       "    </tr>\n",
       "    <tr>\n",
       "      <td>1</td>\n",
       "      <td>31</td>\n",
       "      <td>1</td>\n",
       "      <td>1</td>\n",
       "      <td>10</td>\n",
       "      <td>1</td>\n",
       "      <td>1</td>\n",
       "      <td>0</td>\n",
       "      <td>6</td>\n",
       "      <td>2</td>\n",
       "      <td>41890</td>\n",
       "      <td>0.0</td>\n",
       "      <td>23</td>\n",
       "      <td>8</td>\n",
       "      <td>1</td>\n",
       "      <td>6.0</td>\n",
       "      <td>3</td>\n",
       "      <td>5</td>\n",
       "      <td>1</td>\n",
       "      <td>4</td>\n",
       "    </tr>\n",
       "    <tr>\n",
       "      <td>2</td>\n",
       "      <td>32</td>\n",
       "      <td>1</td>\n",
       "      <td>1</td>\n",
       "      <td>17</td>\n",
       "      <td>4</td>\n",
       "      <td>4</td>\n",
       "      <td>1</td>\n",
       "      <td>7</td>\n",
       "      <td>1</td>\n",
       "      <td>193280</td>\n",
       "      <td>1.0</td>\n",
       "      <td>15</td>\n",
       "      <td>8</td>\n",
       "      <td>3</td>\n",
       "      <td>5.0</td>\n",
       "      <td>2</td>\n",
       "      <td>5</td>\n",
       "      <td>0</td>\n",
       "      <td>3</td>\n",
       "    </tr>\n",
       "    <tr>\n",
       "      <td>3</td>\n",
       "      <td>38</td>\n",
       "      <td>0</td>\n",
       "      <td>1</td>\n",
       "      <td>2</td>\n",
       "      <td>5</td>\n",
       "      <td>1</td>\n",
       "      <td>1</td>\n",
       "      <td>1</td>\n",
       "      <td>1</td>\n",
       "      <td>83210</td>\n",
       "      <td>3.0</td>\n",
       "      <td>11</td>\n",
       "      <td>8</td>\n",
       "      <td>3</td>\n",
       "      <td>13.0</td>\n",
       "      <td>5</td>\n",
       "      <td>8</td>\n",
       "      <td>7</td>\n",
       "      <td>5</td>\n",
       "    </tr>\n",
       "    <tr>\n",
       "      <td>4</td>\n",
       "      <td>32</td>\n",
       "      <td>2</td>\n",
       "      <td>1</td>\n",
       "      <td>10</td>\n",
       "      <td>1</td>\n",
       "      <td>3</td>\n",
       "      <td>1</td>\n",
       "      <td>7</td>\n",
       "      <td>2</td>\n",
       "      <td>23420</td>\n",
       "      <td>4.0</td>\n",
       "      <td>12</td>\n",
       "      <td>8</td>\n",
       "      <td>2</td>\n",
       "      <td>9.0</td>\n",
       "      <td>2</td>\n",
       "      <td>6</td>\n",
       "      <td>0</td>\n",
       "      <td>4</td>\n",
       "    </tr>\n",
       "  </tbody>\n",
       "</table>\n",
       "</div>"
      ],
      "text/plain": [
       "   Age  BusinessTravel  Department  DistanceFromHome  Education  \\\n",
       "0   51               2           2                 6          2   \n",
       "1   31               1           1                10          1   \n",
       "2   32               1           1                17          4   \n",
       "3   38               0           1                 2          5   \n",
       "4   32               2           1                10          1   \n",
       "\n",
       "   EducationField  Gender  JobRole  MaritalStatus  MonthlyIncome  \\\n",
       "0               1       0        0              1         131160   \n",
       "1               1       0        6              2          41890   \n",
       "2               4       1        7              1         193280   \n",
       "3               1       1        1              1          83210   \n",
       "4               3       1        7              2          23420   \n",
       "\n",
       "   NumCompaniesWorked  PercentSalaryHike  StandardHours  StockOptionLevel  \\\n",
       "0                 1.0                 11              8                 0   \n",
       "1                 0.0                 23              8                 1   \n",
       "2                 1.0                 15              8                 3   \n",
       "3                 3.0                 11              8                 3   \n",
       "4                 4.0                 12              8                 2   \n",
       "\n",
       "   TotalWorkingYears  TrainingTimesLastYear  YearsAtCompany  \\\n",
       "0                1.0                      6               1   \n",
       "1                6.0                      3               5   \n",
       "2                5.0                      2               5   \n",
       "3               13.0                      5               8   \n",
       "4                9.0                      2               6   \n",
       "\n",
       "   YearsSinceLastPromotion  YearsWithCurrManager  \n",
       "0                        0                     0  \n",
       "1                        1                     4  \n",
       "2                        0                     3  \n",
       "3                        7                     5  \n",
       "4                        0                     4  "
      ]
     },
     "execution_count": 27,
     "metadata": {},
     "output_type": "execute_result"
    }
   ],
   "source": [
    "training_points.head()"
   ]
  },
  {
   "cell_type": "code",
   "execution_count": 28,
   "metadata": {},
   "outputs": [
    {
     "data": {
      "text/plain": [
       "(3308, 19)"
      ]
     },
     "execution_count": 28,
     "metadata": {},
     "output_type": "execute_result"
    }
   ],
   "source": [
    "training_points.shape"
   ]
  },
  {
   "cell_type": "markdown",
   "metadata": {},
   "source": [
    "### Корреляции?"
   ]
  },
  {
   "cell_type": "code",
   "execution_count": 29,
   "metadata": {},
   "outputs": [],
   "source": [
    "from sklearn.feature_selection import SelectKBest\n",
    "\n",
    "skb = SelectKBest(k = 5)\n",
    "\n",
    "X = skb.fit_transform(training_points,training_values)"
   ]
  },
  {
   "cell_type": "code",
   "execution_count": 30,
   "metadata": {},
   "outputs": [
    {
     "data": {
      "text/plain": [
       "[<matplotlib.lines.Line2D at 0x21ff7a44c48>]"
      ]
     },
     "execution_count": 30,
     "metadata": {},
     "output_type": "execute_result"
    },
    {
     "data": {
      "image/png": "[encoded data removed]",
      "text/plain": [
       "<Figure size 432x288 with 1 Axes>"
      ]
     },
     "metadata": {
      "needs_background": "light"
     },
     "output_type": "display_data"
    }
   ],
   "source": [
    "plt.plot(skb.scores_)"
   ]
  },
  {
   "cell_type": "code",
   "execution_count": 31,
   "metadata": {},
   "outputs": [
    {
     "data": {
      "text/plain": [
       "(3308, 5)"
      ]
     },
     "execution_count": 31,
     "metadata": {},
     "output_type": "execute_result"
    }
   ],
   "source": [
    "X.shape"
   ]
  },
  {
   "cell_type": "code",
   "execution_count": 32,
   "metadata": {},
   "outputs": [],
   "source": [
    "X= pd.DataFrame(X)"
   ]
  },
  {
   "cell_type": "code",
   "execution_count": 33,
   "metadata": {},
   "outputs": [
    {
     "data": {
      "text/plain": [
       "(-0.16221706816562537, 6.076256942316203e-21)"
      ]
     },
     "execution_count": 33,
     "metadata": {},
     "output_type": "execute_result"
    }
   ],
   "source": [
    "import scipy\n",
    "\n",
    "scipy.stats.pearsonr(X[X.columns[0]], training_values)"
   ]
  },
  {
   "cell_type": "markdown",
   "metadata": {},
   "source": [
    "## 2.1 Метрика\n",
    "\n",
    "Какую будем использовать метрику?"
   ]
  },
  {
   "cell_type": "markdown",
   "metadata": {},
   "source": [
    "## 2.2 Baseline model "
   ]
  },
  {
   "cell_type": "code",
   "execution_count": 34,
   "metadata": {},
   "outputs": [],
   "source": [
    "logistic_regression_model = LogisticRegression() # создаем модель"
   ]
  },
  {
   "cell_type": "code",
   "execution_count": 35,
   "metadata": {},
   "outputs": [
    {
     "data": {
      "text/plain": [
       "LogisticRegression(C=1.0, class_weight=None, dual=False, fit_intercept=True,\n",
       "                   intercept_scaling=1, l1_ratio=None, max_iter=100,\n",
       "                   multi_class='warn', n_jobs=None, penalty='l2',\n",
       "                   random_state=None, solver='warn', tol=0.0001, verbose=0,\n",
       "                   warm_start=False)"
      ]
     },
     "execution_count": 35,
     "metadata": {},
     "output_type": "execute_result"
    }
   ],
   "source": [
    "logistic_regression_model.fit(training_points, training_values)"
   ]
  },
  {
   "cell_type": "markdown",
   "metadata": {},
   "source": [
    "##### Провалидировать модель на тестовой выборке"
   ]
  },
  {
   "cell_type": "code",
   "execution_count": 36,
   "metadata": {},
   "outputs": [],
   "source": [
    "test_predictions_logistic_regression = logistic_regression_model.predict(test_points)"
   ]
  },
  {
   "cell_type": "code",
   "execution_count": 37,
   "metadata": {},
   "outputs": [],
   "source": [
    "from sklearn.metrics import accuracy_score, f1_score, fbeta_score"
   ]
  },
  {
   "cell_type": "code",
   "execution_count": 38,
   "metadata": {},
   "outputs": [
    {
     "name": "stdout",
     "output_type": "stream",
     "text": [
      "0.0\n"
     ]
    }
   ],
   "source": [
    "print(f1_score(test_values, test_predictions_logistic_regression))"
   ]
  },
  {
   "cell_type": "code",
   "execution_count": 39,
   "metadata": {},
   "outputs": [
    {
     "name": "stdout",
     "output_type": "stream",
     "text": [
      "0.8357531760435571\n"
     ]
    }
   ],
   "source": [
    "print(accuracy_score(test_values, np.zeros_like(test_values)))"
   ]
  },
  {
   "cell_type": "code",
   "execution_count": 40,
   "metadata": {},
   "outputs": [
    {
     "data": {
      "text/plain": [
       "LogisticRegression(C=1.0, class_weight=None, dual=False, fit_intercept=True,\n",
       "                   intercept_scaling=1, l1_ratio=None, max_iter=100,\n",
       "                   multi_class='warn', n_jobs=None, penalty='l2',\n",
       "                   random_state=None, solver='warn', tol=0.0001, verbose=0,\n",
       "                   warm_start=False)"
      ]
     },
     "execution_count": 40,
     "metadata": {},
     "output_type": "execute_result"
    }
   ],
   "source": [
    "logistic_regression_model.fit(X, training_values)"
   ]
  },
  {
   "cell_type": "markdown",
   "metadata": {},
   "source": [
    "Как видно, значения точности для логистической регрессии равно точности для контстантного классификатора. И на самом деле, модель логистической регресси предсказывает только класс 0:"
   ]
  },
  {
   "cell_type": "code",
   "execution_count": 41,
   "metadata": {
    "scrolled": true
   },
   "outputs": [
    {
     "data": {
      "text/plain": [
       "0    1102\n",
       "dtype: int64"
      ]
     },
     "execution_count": 41,
     "metadata": {},
     "output_type": "execute_result"
    }
   ],
   "source": [
    "pd.value_counts(test_predictions_logistic_regression)"
   ]
  },
  {
   "cell_type": "markdown",
   "metadata": {},
   "source": [
    "## 2.3 Проведем поиск модели"
   ]
  },
  {
   "cell_type": "code",
   "execution_count": 51,
   "metadata": {},
   "outputs": [],
   "source": [
    "random_state = 42\n",
    "\n",
    "from sklearn.neighbors import KNeighborsClassifier\n",
    "knn = KNeighborsClassifier()\n",
    "\n",
    "from sklearn.svm import SVC\n",
    "svc= SVC(random_state= random_state)\n",
    "\n",
    "from sklearn.ensemble import RandomForestClassifier\n",
    "rfc = RandomForestClassifier(random_state= random_state)\n",
    "\n",
    "from sklearn.linear_model import LogisticRegression\n",
    "lr = LogisticRegression(random_state= random_state)"
   ]
  },
  {
   "cell_type": "code",
   "execution_count": 53,
   "metadata": {},
   "outputs": [
    {
     "name": "stdout",
     "output_type": "stream",
     "text": [
      "KNeighbors 0.3942652329749104\n",
      "SVC(C=1.0, 0.9972299168975068\n",
      "RandomFore 0.9972299168975068\n",
      "LogisticRe 0.0\n"
     ]
    }
   ],
   "source": [
    "from sklearn.metrics import accuracy_score\n",
    "\n",
    "models = [knn, svc, rfc, lr]\n",
    "\n",
    "for model in models:\n",
    "    model.fit(training_points, training_values)# fit the model\n",
    "    predictions = model.predict(test_points)\n",
    "    print(str(model)[:10], f1_score(test_values, predictions))   "
   ]
  },
  {
   "cell_type": "markdown",
   "metadata": {},
   "source": [
    "### Посмотрим лучшие модели на кросс-валидации:"
   ]
  },
  {
   "cell_type": "code",
   "execution_count": 57,
   "metadata": {},
   "outputs": [],
   "source": [
    "from sklearn.model_selection import StratifiedKFold"
   ]
  },
  {
   "cell_type": "code",
   "execution_count": 74,
   "metadata": {},
   "outputs": [
    {
     "name": "stdout",
     "output_type": "stream",
     "text": [
      "Fold # 0\n",
      "Fold # 1\n",
      "Fold # 2\n",
      "Fold # 3\n",
      "Fold # 4\n",
      "Fold # 5\n",
      "Fold # 6\n",
      "Fold # 7\n",
      "Fold # 8\n",
      "Fold # 9\n"
     ]
    }
   ],
   "source": [
    "kfold = StratifiedKFold(n_splits=10, random_state= random_state)# проверить 20 фолдов\n",
    "\n",
    "\n",
    "list_1 = []  # обозначим пустой лист, куда будем записывать точность после каждой итерации\n",
    "list_2 = []\n",
    "\n",
    "X = np.asarray(training_points)\n",
    "y = np.asarray(training_values)\n",
    "\n",
    "i = 0\n",
    "\n",
    "for train_index, test_index in kfold.split(X, y):\n",
    "    \n",
    "    X_train, X_test = X[train_index], X[test_index]  # срежем массив по нужным индексам, индексы выбираются в функции kfold\n",
    "    y_train, y_test = y[train_index], y[test_index]\n",
    "    \n",
    "    svc.fit(X_train,y_train)\n",
    "    rfc.fit(X_train,y_train)\n",
    "    \n",
    "    list_1.append(f1_score(svc.predict(X_test),y_test))\n",
    "    list_2.append(f1_score(rfc.predict(X_test),y_test))\n",
    "    \n",
    "    print('Fold #', i)\n",
    "    i += 1  # следующая итерации"
   ]
  },
  {
   "cell_type": "code",
   "execution_count": 75,
   "metadata": {},
   "outputs": [
    {
     "data": {
      "image/png": "[encoded data removed]",
      "text/plain": [
       "<Figure size 432x288 with 1 Axes>"
      ]
     },
     "metadata": {
      "needs_background": "light"
     },
     "output_type": "display_data"
    }
   ],
   "source": [
    "plt.plot(list_1, \"*\")\n",
    "plt.plot(list_2,\"*\")\n",
    "plt.legend(['svc', 'rfc']);"
   ]
  },
  {
   "cell_type": "markdown",
   "metadata": {},
   "source": [
    "### Будем улучшать модель SVC"
   ]
  },
  {
   "cell_type": "code",
   "execution_count": 95,
   "metadata": {},
   "outputs": [],
   "source": [
    "from sklearn.model_selection import GridSearchCV\n",
    "from sklearn.preprocessing import StandardScaler\n",
    "from sklearn.pipeline import Pipeline\n",
    "\n",
    "scaler = StandardScaler()\n",
    "# все делаем теперь по красоте, нам нужен лучший скор\n",
    "pipe = Pipeline([('standardizer', scaler), ('svc', svc)])\n",
    "\n",
    "\n",
    "# Сетка\n",
    "search_space = [{'svc__C': [0.1, 0.2, 0.5, 1, 2, 3, 4, 5, 6, 7, 8, 9, 10],\n",
    "                'svc__kernel': ['linear', 'rbf','poly']\n",
    "#                 'svc__probability': [True], # нужно поставить, чтобы обратиться к `predict_proba`\n",
    "                }]\n",
    "# Поиск по сетке\n",
    "clf = GridSearchCV(pipe, search_space, cv=5).fit(X, y)# а если сразу оптимизировать скоринг f1?"
   ]
  },
  {
   "cell_type": "code",
   "execution_count": 86,
   "metadata": {},
   "outputs": [
    {
     "data": {
      "text/plain": [
       "Pipeline(memory=None,\n",
       "         steps=[('standardizer',\n",
       "                 StandardScaler(copy=True, with_mean=True, with_std=True)),\n",
       "                ('svc',\n",
       "                 SVC(C=10, cache_size=200, class_weight=None, coef0=0.0,\n",
       "                     decision_function_shape='ovr', degree=3,\n",
       "                     gamma='auto_deprecated', kernel='rbf', max_iter=-1,\n",
       "                     probability=False, random_state=42, shrinking=True,\n",
       "                     tol=0.001, verbose=False))],\n",
       "         verbose=False)"
      ]
     },
     "execution_count": 86,
     "metadata": {},
     "output_type": "execute_result"
    }
   ],
   "source": [
    "clf.best_estimator_"
   ]
  },
  {
   "cell_type": "markdown",
   "metadata": {},
   "source": [
    "## 3. Тестируем модель на отложенных данных"
   ]
  },
  {
   "cell_type": "code",
   "execution_count": 89,
   "metadata": {},
   "outputs": [
    {
     "data": {
      "text/plain": [
       "0.9627507163323783"
      ]
     },
     "execution_count": 89,
     "metadata": {},
     "output_type": "execute_result"
    }
   ],
   "source": [
    "f1_score(test_values, clf.best_estimator_.predict(test_points))"
   ]
  },
  {
   "cell_type": "code",
   "execution_count": 90,
   "metadata": {},
   "outputs": [
    {
     "name": "stdout",
     "output_type": "stream",
     "text": [
      "0.9627507163323783\n"
     ]
    }
   ],
   "source": [
    "clf.best_estimator_.fit(training_points, training_values)# fit the model\n",
    "predictions = clf.best_estimator_.predict(test_points)\n",
    "print( f1_score(test_values, predictions))   "
   ]
  },
  {
   "cell_type": "markdown",
   "metadata": {},
   "source": [
    "# 4. Интерпретация. Посмотрим на вероятности принадлежности к классу\n",
    "\n",
    "Вместо прогноза меток классов модель может с помощью метода **`predict_proba()`** выдавать метки вероятности принадлежности к классам.\n",
    "Так как класса у нас 2: сотрудники, которые ушли и которые продолжили работать, то матрица будет размером **(количество объектов в тестовой выборке, 2)**."
   ]
  },
  {
   "cell_type": "code",
   "execution_count": 103,
   "metadata": {},
   "outputs": [],
   "source": [
    "test_probabilities = clf.best_estimator_.predict_proba(test_points)\n",
    "test_predictions = clf.best_estimator_.predict(test_points)"
   ]
  },
  {
   "cell_type": "markdown",
   "metadata": {},
   "source": [
    "Посмотрим на первые пять значений этой матрицу: "
   ]
  },
  {
   "cell_type": "code",
   "execution_count": 98,
   "metadata": {},
   "outputs": [
    {
     "data": {
      "text/plain": [
       "array([[0.97534005, 0.02465995],\n",
       "       [0.98651454, 0.01348546],\n",
       "       [0.9397819 , 0.0602181 ],\n",
       "       [0.97565449, 0.02434551],\n",
       "       [0.93981719, 0.06018281]])"
      ]
     },
     "execution_count": 98,
     "metadata": {},
     "output_type": "execute_result"
    }
   ],
   "source": [
    "test_probabilities[:5, :]"
   ]
  },
  {
   "cell_type": "markdown",
   "metadata": {},
   "source": [
    "Вероятность принадлежности ко второму классу - во втором столбце матрицы вероятностей."
   ]
  },
  {
   "cell_type": "code",
   "execution_count": 99,
   "metadata": {},
   "outputs": [],
   "source": [
    "test_probabilities = test_probabilities[:, 1]"
   ]
  },
  {
   "cell_type": "markdown",
   "metadata": {},
   "source": [
    "Посмотрим на распределение предсказанной классификатором вероятности ухода сотрудника, метки `1`."
   ]
  },
  {
   "cell_type": "code",
   "execution_count": 100,
   "metadata": {},
   "outputs": [
    {
     "data": {
      "image/png": "[encoded data removed]",
      "text/plain": [
       "<Figure size 720x360 with 1 Axes>"
      ]
     },
     "metadata": {
      "needs_background": "light"
     },
     "output_type": "display_data"
    }
   ],
   "source": [
    "plt.figure(figsize=(10, 5))\n",
    "\n",
    "plt.hist(test_probabilities, bins = 100, color= 'green')\n",
    "plt.vlines(0.5, 0, 50)\n",
    "\n",
    "plt.xlabel('Предсказание: Вероятность ухода сотрудника', fontsize=20)\n",
    "plt.ylabel('Количество #', fontsize=20);"
   ]
  },
  {
   "cell_type": "markdown",
   "metadata": {},
   "source": [
    "![](precision_recall.png)"
   ]
  },
  {
   "cell_type": "code",
   "execution_count": 104,
   "metadata": {},
   "outputs": [
    {
     "data": {
      "text/plain": [
       "array([[921,   0],\n",
       "       [ 13, 168]], dtype=int64)"
      ]
     },
     "execution_count": 104,
     "metadata": {},
     "output_type": "execute_result"
    }
   ],
   "source": [
    "from sklearn.metrics import confusion_matrix\n",
    "\n",
    "confusion_matrix(test_values, test_predictions)"
   ]
  },
  {
   "cell_type": "markdown",
   "metadata": {},
   "source": [
    "### Наша лучшая модель нелинейная (ядро `rbf`). \n",
    "Можем интерпретировать RFC"
   ]
  },
  {
   "cell_type": "code",
   "execution_count": 108,
   "metadata": {},
   "outputs": [
    {
     "data": {
      "image/png": "[encoded data removed]",
      "text/plain": [
       "<Figure size 432x288 with 1 Axes>"
      ]
     },
     "metadata": {
      "needs_background": "light"
     },
     "output_type": "display_data"
    }
   ],
   "source": [
    "n_feature = X.shape[1]\n",
    "plt.barh(range(n_feature), rfc.feature_importances_, align='center')\n",
    "plt.yticks(np.arange(n_feature), training_points.columns)\n",
    "plt.xlabel('Feature Importance')\n",
    "plt.ylabel('Feature')\n",
    "plt.show()"
   ]
  },
  {
   "cell_type": "markdown",
   "metadata": {},
   "source": [
    "### Каковы наши шансы в `kaggle` сравним с существующими ядрами:\n",
    "\n",
    "https://www.kaggle.com/patelprashant/employee-attrition/kernels\n",
    "    "
   ]
  }
 ],
 "metadata": {
  "_change_revision": 36,
  "_is_fork": false,
  "kernelspec": {
   "display_name": "Python 3",
   "language": "python",
   "name": "python3"
  },
  "language_info": {
   "codemirror_mode": {
    "name": "ipython",
    "version": 3
   },
   "file_extension": ".py",
   "mimetype": "text/x-python",
   "name": "python",
   "nbconvert_exporter": "python",
   "pygments_lexer": "ipython3",
   "version": "3.7.4"
  }
 },
 "nbformat": 4,
 "nbformat_minor": 1
}
