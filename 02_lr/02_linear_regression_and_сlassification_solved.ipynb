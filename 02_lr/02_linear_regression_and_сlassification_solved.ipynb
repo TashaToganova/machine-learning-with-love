{
 "cells": [
  {
   "cell_type": "markdown",
   "metadata": {},
   "source": [
    "# Введение в машинное обучение\n",
    "\n",
    "## Семинар #2\n",
    "\n",
    "### Polina Polunina\n",
    "polina.polunina@skolkovotech.ru\n",
    "\n",
    "## Линейная и логистическая регрессия."
   ]
  },
  {
   "cell_type": "code",
   "execution_count": 1,
   "metadata": {},
   "outputs": [],
   "source": [
    "#linear algebra\n",
    "import numpy as np\n",
    "#data structures\n",
    "import pandas as pd\n",
    "#ml models\n",
    "import scipy as sp\n",
    "import sklearn\n",
    "from sklearn import datasets\n",
    "from sklearn.linear_model import LinearRegression\n",
    "from sklearn import metrics\n",
    "from sklearn.metrics import accuracy_score\n",
    "from sklearn.svm import SVR\n",
    "#plots\n",
    "import matplotlib.pyplot as plt\n",
    "%matplotlib inline\n",
    "#beautiful plots\n",
    "import seaborn as sns\n",
    "#linear regression\n",
    "import statsmodels.api as sm\n",
    "#set style for plots\n",
    "sns.set_style('darkgrid')\n",
    "#off the warnings\n",
    "import warnings\n",
    "warnings.filterwarnings(\"ignore\")"
   ]
  },
  {
   "cell_type": "markdown",
   "metadata": {},
   "source": [
    "## 1.1 Simple Linear Regression\n",
    "Simple Linear Regression - regression with one variable"
   ]
  },
  {
   "cell_type": "markdown",
   "metadata": {},
   "source": [
    "Load the dataset:\n",
    "* **SalePrice** - The property's sale price in dollars. This is the target variable that you're trying to predict\n",
    "* **GrLivArea** - Above grade (ground) living area square feet\n"
   ]
  },
  {
   "cell_type": "code",
   "execution_count": 2,
   "metadata": {},
   "outputs": [],
   "source": [
    "data = pd.read_csv('train.csv', index_col = 0, usecols=['Id', 'GrLivArea', 'SalePrice'])"
   ]
  },
  {
   "cell_type": "markdown",
   "metadata": {},
   "source": [
    "Let's have a look into the data:"
   ]
  },
  {
   "cell_type": "code",
   "execution_count": 3,
   "metadata": {},
   "outputs": [
    {
     "data": {
      "text/html": [
       "<div>\n",
       "<style scoped>\n",
       "    .dataframe tbody tr th:only-of-type {\n",
       "        vertical-align: middle;\n",
       "    }\n",
       "\n",
       "    .dataframe tbody tr th {\n",
       "        vertical-align: top;\n",
       "    }\n",
       "\n",
       "    .dataframe thead th {\n",
       "        text-align: right;\n",
       "    }\n",
       "</style>\n",
       "<table border=\"1\" class=\"dataframe\">\n",
       "  <thead>\n",
       "    <tr style=\"text-align: right;\">\n",
       "      <th></th>\n",
       "      <th>GrLivArea</th>\n",
       "      <th>SalePrice</th>\n",
       "    </tr>\n",
       "    <tr>\n",
       "      <th>Id</th>\n",
       "      <th></th>\n",
       "      <th></th>\n",
       "    </tr>\n",
       "  </thead>\n",
       "  <tbody>\n",
       "    <tr>\n",
       "      <th>1</th>\n",
       "      <td>1710</td>\n",
       "      <td>208500</td>\n",
       "    </tr>\n",
       "    <tr>\n",
       "      <th>2</th>\n",
       "      <td>1262</td>\n",
       "      <td>181500</td>\n",
       "    </tr>\n",
       "    <tr>\n",
       "      <th>3</th>\n",
       "      <td>1786</td>\n",
       "      <td>223500</td>\n",
       "    </tr>\n",
       "    <tr>\n",
       "      <th>4</th>\n",
       "      <td>1717</td>\n",
       "      <td>140000</td>\n",
       "    </tr>\n",
       "    <tr>\n",
       "      <th>5</th>\n",
       "      <td>2198</td>\n",
       "      <td>250000</td>\n",
       "    </tr>\n",
       "  </tbody>\n",
       "</table>\n",
       "</div>"
      ],
      "text/plain": [
       "    GrLivArea  SalePrice\n",
       "Id                      \n",
       "1        1710     208500\n",
       "2        1262     181500\n",
       "3        1786     223500\n",
       "4        1717     140000\n",
       "5        2198     250000"
      ]
     },
     "execution_count": 3,
     "metadata": {},
     "output_type": "execute_result"
    }
   ],
   "source": [
    "data.head()"
   ]
  },
  {
   "cell_type": "code",
   "execution_count": 4,
   "metadata": {},
   "outputs": [
    {
     "data": {
      "text/html": [
       "<div>\n",
       "<style scoped>\n",
       "    .dataframe tbody tr th:only-of-type {\n",
       "        vertical-align: middle;\n",
       "    }\n",
       "\n",
       "    .dataframe tbody tr th {\n",
       "        vertical-align: top;\n",
       "    }\n",
       "\n",
       "    .dataframe thead th {\n",
       "        text-align: right;\n",
       "    }\n",
       "</style>\n",
       "<table border=\"1\" class=\"dataframe\">\n",
       "  <thead>\n",
       "    <tr style=\"text-align: right;\">\n",
       "      <th></th>\n",
       "      <th>GrLivArea</th>\n",
       "      <th>SalePrice</th>\n",
       "    </tr>\n",
       "  </thead>\n",
       "  <tbody>\n",
       "    <tr>\n",
       "      <th>count</th>\n",
       "      <td>1460.000000</td>\n",
       "      <td>1460.000000</td>\n",
       "    </tr>\n",
       "    <tr>\n",
       "      <th>mean</th>\n",
       "      <td>1515.463699</td>\n",
       "      <td>180921.195890</td>\n",
       "    </tr>\n",
       "    <tr>\n",
       "      <th>std</th>\n",
       "      <td>525.480383</td>\n",
       "      <td>79442.502883</td>\n",
       "    </tr>\n",
       "    <tr>\n",
       "      <th>min</th>\n",
       "      <td>334.000000</td>\n",
       "      <td>34900.000000</td>\n",
       "    </tr>\n",
       "    <tr>\n",
       "      <th>25%</th>\n",
       "      <td>1129.500000</td>\n",
       "      <td>129975.000000</td>\n",
       "    </tr>\n",
       "    <tr>\n",
       "      <th>50%</th>\n",
       "      <td>1464.000000</td>\n",
       "      <td>163000.000000</td>\n",
       "    </tr>\n",
       "    <tr>\n",
       "      <th>75%</th>\n",
       "      <td>1776.750000</td>\n",
       "      <td>214000.000000</td>\n",
       "    </tr>\n",
       "    <tr>\n",
       "      <th>max</th>\n",
       "      <td>5642.000000</td>\n",
       "      <td>755000.000000</td>\n",
       "    </tr>\n",
       "  </tbody>\n",
       "</table>\n",
       "</div>"
      ],
      "text/plain": [
       "         GrLivArea      SalePrice\n",
       "count  1460.000000    1460.000000\n",
       "mean   1515.463699  180921.195890\n",
       "std     525.480383   79442.502883\n",
       "min     334.000000   34900.000000\n",
       "25%    1129.500000  129975.000000\n",
       "50%    1464.000000  163000.000000\n",
       "75%    1776.750000  214000.000000\n",
       "max    5642.000000  755000.000000"
      ]
     },
     "execution_count": 4,
     "metadata": {},
     "output_type": "execute_result"
    }
   ],
   "source": [
    "data.describe()"
   ]
  },
  {
   "cell_type": "code",
   "execution_count": 5,
   "metadata": {},
   "outputs": [
    {
     "data": {
      "image/png": "[encoded data removed]",
      "text/plain": [
       "<Figure size 432x288 with 1 Axes>"
      ]
     },
     "metadata": {
      "needs_background": "light"
     },
     "output_type": "display_data"
    }
   ],
   "source": [
    "data.GrLivArea.hist(bins=20, label='GrLivArea')\n",
    "plt.legend()\n",
    "plt.show()"
   ]
  },
  {
   "cell_type": "code",
   "execution_count": 6,
   "metadata": {},
   "outputs": [
    {
     "data": {
      "image/png": "[encoded data removed]",
      "text/plain": [
       "<Figure size 432x288 with 1 Axes>"
      ]
     },
     "metadata": {
      "needs_background": "light"
     },
     "output_type": "display_data"
    }
   ],
   "source": [
    "data.SalePrice.hist(bins=30, label='SalePrice')\n",
    "plt.legend()\n",
    "plt.show()"
   ]
  },
  {
   "cell_type": "code",
   "execution_count": 7,
   "metadata": {},
   "outputs": [
    {
     "data": {
      "text/plain": [
       "326099.99999999994"
      ]
     },
     "execution_count": 7,
     "metadata": {},
     "output_type": "execute_result"
    }
   ],
   "source": [
    "data.SalePrice.quantile(0.95)"
   ]
  },
  {
   "cell_type": "code",
   "execution_count": 8,
   "metadata": {},
   "outputs": [
    {
     "data": {
      "image/png": "[encoded data removed]",
      "text/plain": [
       "<Figure size 720x504 with 1 Axes>"
      ]
     },
     "metadata": {
      "needs_background": "light"
     },
     "output_type": "display_data"
    }
   ],
   "source": [
    "#set figsize of the plot\n",
    "plt.figure(figsize = (10,7))\n",
    "#scatter plot of the data\n",
    "plt.scatter(data.GrLivArea, data.SalePrice)\n",
    "#text for x axis\n",
    "plt.xlabel('Living area, square feet')\n",
    "#text for y axis\n",
    "plt.ylabel('Sale Price, dollars')\n",
    "#text for the plot title\n",
    "plt.title('Dependence between House Sale Price and Living Area')\n",
    "#show the plot\n",
    "plt.show()"
   ]
  },
  {
   "cell_type": "markdown",
   "metadata": {},
   "source": [
    "### How to model this dependence?"
   ]
  },
  {
   "cell_type": "markdown",
   "metadata": {},
   "source": [
    "### Building a model\n",
    "\n",
    "* Y = SalePrice - target, dependent variable \n",
    "* X = GrLivArea - predictor, independent variable\n",
    "\n",
    "**the model**\n",
    "\n",
    "We want to find a line that reflects the dependence between Sale Price and Living area\n",
    "\n",
    "\n",
    "$Y = a + bX + \\epsilon$\n"
   ]
  },
  {
   "cell_type": "code",
   "execution_count": 9,
   "metadata": {},
   "outputs": [],
   "source": [
    "X = data.GrLivArea\n",
    "Y = data.SalePrice\n",
    "#add the constant term to the data\n",
    "X = sm.add_constant(X)\n",
    "#define the model\n",
    "model = sm.OLS(Y, X)\n",
    "#fit the model\n",
    "results = model.fit()"
   ]
  },
  {
   "cell_type": "code",
   "execution_count": 10,
   "metadata": {},
   "outputs": [
    {
     "data": {
      "text/html": [
       "<table class=\"simpletable\">\n",
       "<tr>\n",
       "        <td>Model:</td>               <td>OLS</td>         <td>Adj. R-squared:</td>      <td>0.502</td>  \n",
       "</tr>\n",
       "<tr>\n",
       "  <td>Dependent Variable:</td>     <td>SalePrice</td>           <td>AIC:</td>         <td>36073.7610</td>\n",
       "</tr>\n",
       "<tr>\n",
       "         <td>Date:</td>        <td>2019-11-14 15:55</td>        <td>BIC:</td>         <td>36084.3334</td>\n",
       "</tr>\n",
       "<tr>\n",
       "   <td>No. Observations:</td>        <td>1460</td>         <td>Log-Likelihood:</td>     <td>-18035.</td> \n",
       "</tr>\n",
       "<tr>\n",
       "       <td>Df Model:</td>              <td>1</td>           <td>F-statistic:</td>        <td>1471.</td>  \n",
       "</tr>\n",
       "<tr>\n",
       "     <td>Df Residuals:</td>          <td>1458</td>       <td>Prob (F-statistic):</td>  <td>4.52e-223</td>\n",
       "</tr>\n",
       "<tr>\n",
       "      <td>R-squared:</td>            <td>0.502</td>            <td>Scale:</td>        <td>3.1442e+09</td>\n",
       "</tr>\n",
       "</table>\n",
       "<table class=\"simpletable\">\n",
       "<tr>\n",
       "      <td></td>         <th>Coef.</th>   <th>Std.Err.</th>     <th>t</th>     <th>P>|t|</th>  <th>[0.025</th>     <th>0.975]</th>  \n",
       "</tr>\n",
       "<tr>\n",
       "  <th>const</th>     <td>18569.0259</td> <td>4480.7545</td> <td>4.1442</td>  <td>0.0000</td> <td>9779.6119</td> <td>27358.4399</td>\n",
       "</tr>\n",
       "<tr>\n",
       "  <th>GrLivArea</th>  <td>107.1304</td>   <td>2.7936</td>   <td>38.3482</td> <td>0.0000</td> <td>101.6504</td>   <td>112.6103</td> \n",
       "</tr>\n",
       "</table>\n",
       "<table class=\"simpletable\">\n",
       "<tr>\n",
       "     <td>Omnibus:</td>    <td>261.166</td>  <td>Durbin-Watson:</td>     <td>2.025</td> \n",
       "</tr>\n",
       "<tr>\n",
       "  <td>Prob(Omnibus):</td>  <td>0.000</td>  <td>Jarque-Bera (JB):</td> <td>3432.287</td>\n",
       "</tr>\n",
       "<tr>\n",
       "       <td>Skew:</td>      <td>0.410</td>      <td>Prob(JB):</td>       <td>0.000</td> \n",
       "</tr>\n",
       "<tr>\n",
       "     <td>Kurtosis:</td>   <td>10.467</td>   <td>Condition No.:</td>     <td>4897</td>  \n",
       "</tr>\n",
       "</table>"
      ],
      "text/plain": [
       "<class 'statsmodels.iolib.summary2.Summary'>\n",
       "\"\"\"\n",
       "                  Results: Ordinary least squares\n",
       "===================================================================\n",
       "Model:              OLS              Adj. R-squared:     0.502     \n",
       "Dependent Variable: SalePrice        AIC:                36073.7610\n",
       "Date:               2019-11-14 15:55 BIC:                36084.3334\n",
       "No. Observations:   1460             Log-Likelihood:     -18035.   \n",
       "Df Model:           1                F-statistic:        1471.     \n",
       "Df Residuals:       1458             Prob (F-statistic): 4.52e-223 \n",
       "R-squared:          0.502            Scale:              3.1442e+09\n",
       "-------------------------------------------------------------------\n",
       "             Coef.     Std.Err.    t    P>|t|    [0.025    0.975]  \n",
       "-------------------------------------------------------------------\n",
       "const      18569.0259 4480.7545  4.1442 0.0000 9779.6119 27358.4399\n",
       "GrLivArea    107.1304    2.7936 38.3482 0.0000  101.6504   112.6103\n",
       "-------------------------------------------------------------------\n",
       "Omnibus:             261.166       Durbin-Watson:          2.025   \n",
       "Prob(Omnibus):       0.000         Jarque-Bera (JB):       3432.287\n",
       "Skew:                0.410         Prob(JB):               0.000   \n",
       "Kurtosis:            10.467        Condition No.:          4897    \n",
       "===================================================================\n",
       "* The condition number is large (5e+03). This might indicate\n",
       "strong multicollinearity or other numerical problems.\n",
       "\"\"\""
      ]
     },
     "execution_count": 10,
     "metadata": {},
     "output_type": "execute_result"
    }
   ],
   "source": [
    "#plot the summary of our model\n",
    "results.summary2()"
   ]
  },
  {
   "cell_type": "markdown",
   "metadata": {},
   "source": [
    "### What do all these stats mean?"
   ]
  },
  {
   "cell_type": "markdown",
   "metadata": {},
   "source": [
    "* **const** - the found value for a\n",
    "* **GrLivArea** - the found value for b\n",
    "\n",
    "so that our model is **Y = 18569.0259 + 107.1304 * X**"
   ]
  },
  {
   "cell_type": "markdown",
   "metadata": {},
   "source": [
    "**Hypothesis testing and *p-value***\n",
    "\n",
    "$H_0$: coeff = 0 - null hypothesis\n",
    "\n",
    "$H_1$: coeff $\\neq$ 0 - alternative hypothesis\n",
    "\n",
    "* If *p-value* $\\leq$ alpha, then we **CAN** reject the null hypothesis and the coeff is called **significant**\n",
    "* If *p-value* > alpha, then we **CAN NOT** reject the null hypothesis and the coeff is called **insignificant**\n",
    "    \n",
    "    \n",
    "**How to choose a suitable alpha value?**\n",
    "\n",
    "Alphas could be: 0.01, 0.05, 0.1 ... "
   ]
  },
  {
   "cell_type": "markdown",
   "metadata": {},
   "source": [
    "What is the appropriate false positives and false negatives level?\n",
    "\n",
    "The most common alpha for coeffs = 0.05"
   ]
  },
  {
   "cell_type": "markdown",
   "metadata": {},
   "source": [
    "#### How well this relation reflects the dependence?\n",
    "**Y = 18569.0259 + 107.1304 * X**"
   ]
  },
  {
   "cell_type": "code",
   "execution_count": 11,
   "metadata": {},
   "outputs": [
    {
     "data": {
      "image/png": "[encoded data removed]",
      "text/plain": [
       "<Figure size 720x504 with 1 Axes>"
      ]
     },
     "metadata": {
      "needs_background": "light"
     },
     "output_type": "display_data"
    }
   ],
   "source": [
    "#set size of the plot\n",
    "plt.figure(figsize = (10,7))\n",
    "#scatter plot of the data\n",
    "plt.scatter(data.GrLivArea, data.SalePrice, alpha=0.6, label = 'Original data')\n",
    "#plot of the found regression line\n",
    "plt.plot(data.GrLivArea.values, 18569.0259 + 107.1304 * data.GrLivArea.values, color = 'orchid', label='Model')\n",
    "#text for x axis\n",
    "plt.xlabel('Living area, square feet')\n",
    "#text for y axis\n",
    "plt.ylabel('Sale Price, dollars')\n",
    "#text for the plot title\n",
    "plt.title('Dependence between House Sale Price and Living Area')\n",
    "plt.legend()\n",
    "#show the plot\n",
    "plt.show()"
   ]
  },
  {
   "cell_type": "markdown",
   "metadata": {},
   "source": [
    "#### $R^2$ and Regression Performance\n",
    "\n",
    "Another recall from you statistics course =)\n",
    "\n",
    "$R^2$ is the **coefficient of determination**, the most common performance metric for regression problems\n",
    "\n",
    "In case of linear regression, $R^2$ is defined in the following way:\n",
    "\n",
    "* $y_i$ - observed target data\n",
    "* $\\hat{y_i}$ - predicted data\n",
    "* $\\overline{y} = \\frac{1}{n}\\sum_{i=1}^{n}y_i$ - mean of the observed data\n",
    "* $SS_{tot} = \\sum_{i}(y_i - \\overline{y})^2$ - total sum of squares\n",
    "* $SS_{reg} = \\sum_{i}(\\hat{y_i} - \\overline{y})^2$ - explained sum of squares\n",
    "* $SS_{res} = \\sum_{i}(y_i - \\hat{y_i})^2 = \\sum_{i}residual_i^2$ - residual sum of squares\n",
    "\n",
    "$R^2 = \\frac{SS_{reg}}{SS_{tot}} = 1 - \\frac{SS_{res}}{SS_{tot}}$ - the ratio of the explained variance \n",
    "\n",
    "$R^2$ range is [0, 1]\n",
    "\n",
    "In our model, $R^2 = 0.502$, so only a half of the variance is explained"
   ]
  },
  {
   "cell_type": "markdown",
   "metadata": {},
   "source": [
    "**Note:** $R^2$ is biased (!) and we should look into $R^2_{adjusted}$"
   ]
  },
  {
   "cell_type": "markdown",
   "metadata": {},
   "source": [
    "### Can we do better?\n",
    "\n",
    "Let's take logarithms from X and Y, so that our model is **$ln(Y) = a + b*ln(X) + \\epsilon$**"
   ]
  },
  {
   "cell_type": "code",
   "execution_count": 12,
   "metadata": {},
   "outputs": [],
   "source": [
    "X = data.GrLivArea\n",
    "Y = data.SalePrice\n",
    "X=np.log(X)\n",
    "Y=np.log(Y)\n",
    "#add the constant term to the data\n",
    "X = sm.add_constant(X)\n",
    "#define the model\n",
    "model = sm.OLS(Y, X)\n",
    "#fit the model\n",
    "results = model.fit()"
   ]
  },
  {
   "cell_type": "code",
   "execution_count": 13,
   "metadata": {},
   "outputs": [
    {
     "data": {
      "text/html": [
       "<table class=\"simpletable\">\n",
       "<tr>\n",
       "        <td>Model:</td>               <td>OLS</td>         <td>Adj. R-squared:</td>     <td>0.533</td>  \n",
       "</tr>\n",
       "<tr>\n",
       "  <td>Dependent Variable:</td>     <td>SalePrice</td>           <td>AIC:</td>         <td>354.1941</td> \n",
       "</tr>\n",
       "<tr>\n",
       "         <td>Date:</td>        <td>2019-11-14 15:55</td>        <td>BIC:</td>         <td>364.7664</td> \n",
       "</tr>\n",
       "<tr>\n",
       "   <td>No. Observations:</td>        <td>1460</td>         <td>Log-Likelihood:</td>    <td>-175.10</td> \n",
       "</tr>\n",
       "<tr>\n",
       "       <td>Df Model:</td>              <td>1</td>           <td>F-statistic:</td>       <td>1666.</td>  \n",
       "</tr>\n",
       "<tr>\n",
       "     <td>Df Residuals:</td>          <td>1458</td>       <td>Prob (F-statistic):</td> <td>1.60e-243</td>\n",
       "</tr>\n",
       "<tr>\n",
       "      <td>R-squared:</td>            <td>0.533</td>            <td>Scale:</td>        <td>0.074523</td> \n",
       "</tr>\n",
       "</table>\n",
       "<table class=\"simpletable\">\n",
       "<tr>\n",
       "      <td></td>       <th>Coef.</th> <th>Std.Err.</th>    <th>t</th>     <th>P>|t|</th> <th>[0.025</th> <th>0.975]</th>\n",
       "</tr>\n",
       "<tr>\n",
       "  <th>const</th>     <td>5.6681</td>  <td>0.1559</td>  <td>36.3601</td> <td>0.0000</td> <td>5.3623</td> <td>5.9739</td>\n",
       "</tr>\n",
       "<tr>\n",
       "  <th>GrLivArea</th> <td>0.8745</td>  <td>0.0214</td>  <td>40.8151</td> <td>0.0000</td> <td>0.8325</td> <td>0.9166</td>\n",
       "</tr>\n",
       "</table>\n",
       "<table class=\"simpletable\">\n",
       "<tr>\n",
       "     <td>Omnibus:</td>    <td>111.954</td>  <td>Durbin-Watson:</td>    <td>2.022</td> \n",
       "</tr>\n",
       "<tr>\n",
       "  <td>Prob(Omnibus):</td>  <td>0.000</td>  <td>Jarque-Bera (JB):</td> <td>184.755</td>\n",
       "</tr>\n",
       "<tr>\n",
       "       <td>Skew:</td>     <td>-0.565</td>      <td>Prob(JB):</td>      <td>0.000</td> \n",
       "</tr>\n",
       "<tr>\n",
       "     <td>Kurtosis:</td>    <td>4.327</td>   <td>Condition No.:</td>     <td>162</td>  \n",
       "</tr>\n",
       "</table>"
      ],
      "text/plain": [
       "<class 'statsmodels.iolib.summary2.Summary'>\n",
       "\"\"\"\n",
       "                 Results: Ordinary least squares\n",
       "==================================================================\n",
       "Model:              OLS              Adj. R-squared:     0.533    \n",
       "Dependent Variable: SalePrice        AIC:                354.1941 \n",
       "Date:               2019-11-14 15:55 BIC:                364.7664 \n",
       "No. Observations:   1460             Log-Likelihood:     -175.10  \n",
       "Df Model:           1                F-statistic:        1666.    \n",
       "Df Residuals:       1458             Prob (F-statistic): 1.60e-243\n",
       "R-squared:          0.533            Scale:              0.074523 \n",
       "--------------------------------------------------------------------\n",
       "              Coef.    Std.Err.      t      P>|t|    [0.025   0.975]\n",
       "--------------------------------------------------------------------\n",
       "const         5.6681     0.1559   36.3601   0.0000   5.3623   5.9739\n",
       "GrLivArea     0.8745     0.0214   40.8151   0.0000   0.8325   0.9166\n",
       "------------------------------------------------------------------\n",
       "Omnibus:             111.954       Durbin-Watson:          2.022  \n",
       "Prob(Omnibus):       0.000         Jarque-Bera (JB):       184.755\n",
       "Skew:                -0.565        Prob(JB):               0.000  \n",
       "Kurtosis:            4.327         Condition No.:          162    \n",
       "==================================================================\n",
       "\n",
       "\"\"\""
      ]
     },
     "execution_count": 13,
     "metadata": {},
     "output_type": "execute_result"
    }
   ],
   "source": [
    "#plot the summary of our model\n",
    "results.summary2()"
   ]
  },
  {
   "cell_type": "code",
   "execution_count": 14,
   "metadata": {},
   "outputs": [
    {
     "data": {
      "image/png": "[encoded data removed]",
      "text/plain": [
       "<Figure size 720x504 with 1 Axes>"
      ]
     },
     "metadata": {
      "needs_background": "light"
     },
     "output_type": "display_data"
    }
   ],
   "source": [
    "#set size of the plot\n",
    "plt.figure(figsize = (10,7))\n",
    "#scatter plot of the data\n",
    "plt.scatter(np.log(data.GrLivArea), np.log(data.SalePrice), alpha=0.6, label = 'Original data')\n",
    "#plot of the found regression line\n",
    "plt.plot(np.log(data.GrLivArea.values), 5.6681 + 0.8745 * np.log(data.GrLivArea.values), color = 'orchid', label='Model')\n",
    "#text for x axis\n",
    "plt.xlabel('log(Living area), square feet')\n",
    "#text for y axis\n",
    "plt.ylabel('log(Sale Price), dollars')\n",
    "#text for the plot title\n",
    "plt.title('Dependence between log(House Sale Price) and log(Living Area)')\n",
    "plt.legend()\n",
    "#show the plot\n",
    "plt.show()"
   ]
  },
  {
   "cell_type": "markdown",
   "metadata": {},
   "source": [
    "## 1.2 Multiple Linear Regression"
   ]
  },
  {
   "cell_type": "code",
   "execution_count": 15,
   "metadata": {},
   "outputs": [],
   "source": [
    "cols=['Id', 'MSSubClass', 'LotArea', 'OverallQual',\\\n",
    "      'OverallCond', 'YearBuilt', 'YearRemodAdd',\\\n",
    "      'BsmtUnfSF', 'TotalBsmtSF', '1stFlrSF', '2ndFlrSF',\\\n",
    "     'LowQualFinSF', 'GrLivArea', 'BsmtFullBath',\\\n",
    "     'FullBath', 'HalfBath', 'BedroomAbvGr', 'KitchenAbvGr',\\\n",
    "     'TotRmsAbvGrd', 'Fireplaces', 'GarageCars',\\\n",
    "     'GarageArea', 'WoodDeckSF', 'OpenPorchSF', 'EnclosedPorch', '3SsnPorch',\\\n",
    "     'ScreenPorch', 'PoolArea', 'MiscVal', 'MoSold', 'YrSold', 'SalePrice']"
   ]
  },
  {
   "cell_type": "code",
   "execution_count": 16,
   "metadata": {},
   "outputs": [
    {
     "data": {
      "text/html": [
       "<div>\n",
       "<style scoped>\n",
       "    .dataframe tbody tr th:only-of-type {\n",
       "        vertical-align: middle;\n",
       "    }\n",
       "\n",
       "    .dataframe tbody tr th {\n",
       "        vertical-align: top;\n",
       "    }\n",
       "\n",
       "    .dataframe thead th {\n",
       "        text-align: right;\n",
       "    }\n",
       "</style>\n",
       "<table border=\"1\" class=\"dataframe\">\n",
       "  <thead>\n",
       "    <tr style=\"text-align: right;\">\n",
       "      <th></th>\n",
       "      <th>MSSubClass</th>\n",
       "      <th>LotArea</th>\n",
       "      <th>OverallQual</th>\n",
       "      <th>OverallCond</th>\n",
       "      <th>YearBuilt</th>\n",
       "      <th>YearRemodAdd</th>\n",
       "      <th>BsmtUnfSF</th>\n",
       "      <th>TotalBsmtSF</th>\n",
       "      <th>1stFlrSF</th>\n",
       "      <th>2ndFlrSF</th>\n",
       "      <th>...</th>\n",
       "      <th>WoodDeckSF</th>\n",
       "      <th>OpenPorchSF</th>\n",
       "      <th>EnclosedPorch</th>\n",
       "      <th>3SsnPorch</th>\n",
       "      <th>ScreenPorch</th>\n",
       "      <th>PoolArea</th>\n",
       "      <th>MiscVal</th>\n",
       "      <th>MoSold</th>\n",
       "      <th>YrSold</th>\n",
       "      <th>SalePrice</th>\n",
       "    </tr>\n",
       "    <tr>\n",
       "      <th>Id</th>\n",
       "      <th></th>\n",
       "      <th></th>\n",
       "      <th></th>\n",
       "      <th></th>\n",
       "      <th></th>\n",
       "      <th></th>\n",
       "      <th></th>\n",
       "      <th></th>\n",
       "      <th></th>\n",
       "      <th></th>\n",
       "      <th></th>\n",
       "      <th></th>\n",
       "      <th></th>\n",
       "      <th></th>\n",
       "      <th></th>\n",
       "      <th></th>\n",
       "      <th></th>\n",
       "      <th></th>\n",
       "      <th></th>\n",
       "      <th></th>\n",
       "      <th></th>\n",
       "    </tr>\n",
       "  </thead>\n",
       "  <tbody>\n",
       "    <tr>\n",
       "      <th>1</th>\n",
       "      <td>60</td>\n",
       "      <td>8450</td>\n",
       "      <td>7</td>\n",
       "      <td>5</td>\n",
       "      <td>2003</td>\n",
       "      <td>2003</td>\n",
       "      <td>150</td>\n",
       "      <td>856</td>\n",
       "      <td>856</td>\n",
       "      <td>854</td>\n",
       "      <td>...</td>\n",
       "      <td>0</td>\n",
       "      <td>61</td>\n",
       "      <td>0</td>\n",
       "      <td>0</td>\n",
       "      <td>0</td>\n",
       "      <td>0</td>\n",
       "      <td>0</td>\n",
       "      <td>2</td>\n",
       "      <td>2008</td>\n",
       "      <td>208500</td>\n",
       "    </tr>\n",
       "    <tr>\n",
       "      <th>2</th>\n",
       "      <td>20</td>\n",
       "      <td>9600</td>\n",
       "      <td>6</td>\n",
       "      <td>8</td>\n",
       "      <td>1976</td>\n",
       "      <td>1976</td>\n",
       "      <td>284</td>\n",
       "      <td>1262</td>\n",
       "      <td>1262</td>\n",
       "      <td>0</td>\n",
       "      <td>...</td>\n",
       "      <td>298</td>\n",
       "      <td>0</td>\n",
       "      <td>0</td>\n",
       "      <td>0</td>\n",
       "      <td>0</td>\n",
       "      <td>0</td>\n",
       "      <td>0</td>\n",
       "      <td>5</td>\n",
       "      <td>2007</td>\n",
       "      <td>181500</td>\n",
       "    </tr>\n",
       "    <tr>\n",
       "      <th>3</th>\n",
       "      <td>60</td>\n",
       "      <td>11250</td>\n",
       "      <td>7</td>\n",
       "      <td>5</td>\n",
       "      <td>2001</td>\n",
       "      <td>2002</td>\n",
       "      <td>434</td>\n",
       "      <td>920</td>\n",
       "      <td>920</td>\n",
       "      <td>866</td>\n",
       "      <td>...</td>\n",
       "      <td>0</td>\n",
       "      <td>42</td>\n",
       "      <td>0</td>\n",
       "      <td>0</td>\n",
       "      <td>0</td>\n",
       "      <td>0</td>\n",
       "      <td>0</td>\n",
       "      <td>9</td>\n",
       "      <td>2008</td>\n",
       "      <td>223500</td>\n",
       "    </tr>\n",
       "    <tr>\n",
       "      <th>4</th>\n",
       "      <td>70</td>\n",
       "      <td>9550</td>\n",
       "      <td>7</td>\n",
       "      <td>5</td>\n",
       "      <td>1915</td>\n",
       "      <td>1970</td>\n",
       "      <td>540</td>\n",
       "      <td>756</td>\n",
       "      <td>961</td>\n",
       "      <td>756</td>\n",
       "      <td>...</td>\n",
       "      <td>0</td>\n",
       "      <td>35</td>\n",
       "      <td>272</td>\n",
       "      <td>0</td>\n",
       "      <td>0</td>\n",
       "      <td>0</td>\n",
       "      <td>0</td>\n",
       "      <td>2</td>\n",
       "      <td>2006</td>\n",
       "      <td>140000</td>\n",
       "    </tr>\n",
       "    <tr>\n",
       "      <th>5</th>\n",
       "      <td>60</td>\n",
       "      <td>14260</td>\n",
       "      <td>8</td>\n",
       "      <td>5</td>\n",
       "      <td>2000</td>\n",
       "      <td>2000</td>\n",
       "      <td>490</td>\n",
       "      <td>1145</td>\n",
       "      <td>1145</td>\n",
       "      <td>1053</td>\n",
       "      <td>...</td>\n",
       "      <td>192</td>\n",
       "      <td>84</td>\n",
       "      <td>0</td>\n",
       "      <td>0</td>\n",
       "      <td>0</td>\n",
       "      <td>0</td>\n",
       "      <td>0</td>\n",
       "      <td>12</td>\n",
       "      <td>2008</td>\n",
       "      <td>250000</td>\n",
       "    </tr>\n",
       "  </tbody>\n",
       "</table>\n",
       "<p>5 rows × 31 columns</p>\n",
       "</div>"
      ],
      "text/plain": [
       "    MSSubClass  LotArea  OverallQual  OverallCond  YearBuilt  YearRemodAdd  \\\n",
       "Id                                                                           \n",
       "1           60     8450            7            5       2003          2003   \n",
       "2           20     9600            6            8       1976          1976   \n",
       "3           60    11250            7            5       2001          2002   \n",
       "4           70     9550            7            5       1915          1970   \n",
       "5           60    14260            8            5       2000          2000   \n",
       "\n",
       "    BsmtUnfSF  TotalBsmtSF  1stFlrSF  2ndFlrSF  ...  WoodDeckSF  OpenPorchSF  \\\n",
       "Id                                              ...                            \n",
       "1         150          856       856       854  ...           0           61   \n",
       "2         284         1262      1262         0  ...         298            0   \n",
       "3         434          920       920       866  ...           0           42   \n",
       "4         540          756       961       756  ...           0           35   \n",
       "5         490         1145      1145      1053  ...         192           84   \n",
       "\n",
       "    EnclosedPorch  3SsnPorch  ScreenPorch  PoolArea  MiscVal  MoSold  YrSold  \\\n",
       "Id                                                                             \n",
       "1               0          0            0         0        0       2    2008   \n",
       "2               0          0            0         0        0       5    2007   \n",
       "3               0          0            0         0        0       9    2008   \n",
       "4             272          0            0         0        0       2    2006   \n",
       "5               0          0            0         0        0      12    2008   \n",
       "\n",
       "    SalePrice  \n",
       "Id             \n",
       "1      208500  \n",
       "2      181500  \n",
       "3      223500  \n",
       "4      140000  \n",
       "5      250000  \n",
       "\n",
       "[5 rows x 31 columns]"
      ]
     },
     "execution_count": 16,
     "metadata": {},
     "output_type": "execute_result"
    }
   ],
   "source": [
    "data = pd.read_csv('train.csv', index_col=0, usecols=cols)\n",
    "data.head()"
   ]
  },
  {
   "cell_type": "markdown",
   "metadata": {},
   "source": [
    "Check for Nan values:"
   ]
  },
  {
   "cell_type": "code",
   "execution_count": 17,
   "metadata": {},
   "outputs": [
    {
     "data": {
      "text/plain": [
       "0"
      ]
     },
     "execution_count": 17,
     "metadata": {},
     "output_type": "execute_result"
    }
   ],
   "source": [
    "data.isna().sum().sum()"
   ]
  },
  {
   "cell_type": "markdown",
   "metadata": {},
   "source": [
    "### Define the model"
   ]
  },
  {
   "cell_type": "code",
   "execution_count": 18,
   "metadata": {},
   "outputs": [],
   "source": [
    "X = data.drop('SalePrice', axis=1)\n",
    "Y = data.SalePrice\n",
    "#add the constant term to the data\n",
    "X = sm.add_constant(X)\n",
    "#define the model\n",
    "model = sm.OLS(Y, X)\n",
    "#fit the model\n",
    "results = model.fit()"
   ]
  },
  {
   "cell_type": "markdown",
   "metadata": {},
   "source": [
    "Calculate some statistical parameters:"
   ]
  },
  {
   "cell_type": "code",
   "execution_count": 19,
   "metadata": {},
   "outputs": [
    {
     "name": "stdout",
     "output_type": "stream",
     "text": [
      " the number of parameters to estimate: 31 \n",
      " total number of observations: 1460 \n",
      " degrees of freedom of the model: 30 \n",
      " degrees of freedom of the errors: 1429\n"
     ]
    }
   ],
   "source": [
    "#together with the intercept\n",
    "k = X.shape[1]\n",
    "#total number of observations\n",
    "n = X.shape[0]\n",
    "#degrees of freedom for the model:\n",
    "df_model = k - 1\n",
    "#degrees of freedom of the error:\n",
    "df_error = n - k\n",
    "print(' the number of parameters to estimate: {} \\n total number of observations: {} \\n degrees of freedom of the model: {} \\n degrees of freedom of the errors: {}'\\\n",
    "      .format(k, n, df_model, df_error))"
   ]
  },
  {
   "cell_type": "markdown",
   "metadata": {},
   "source": [
    "Calculate the rank of feature matrix:"
   ]
  },
  {
   "cell_type": "code",
   "execution_count": 20,
   "metadata": {},
   "outputs": [
    {
     "data": {
      "text/plain": [
       "30"
      ]
     },
     "execution_count": 20,
     "metadata": {},
     "output_type": "execute_result"
    }
   ],
   "source": [
    "np.linalg.matrix_rank(X)"
   ]
  },
  {
   "cell_type": "code",
   "execution_count": 21,
   "metadata": {},
   "outputs": [
    {
     "data": {
      "text/html": [
       "<table class=\"simpletable\">\n",
       "<tr>\n",
       "        <td>Model:</td>               <td>OLS</td>         <td>Adj. R-squared:</td>      <td>0.804</td>  \n",
       "</tr>\n",
       "<tr>\n",
       "  <td>Dependent Variable:</td>     <td>SalePrice</td>           <td>AIC:</td>         <td>34737.9309</td>\n",
       "</tr>\n",
       "<tr>\n",
       "         <td>Date:</td>        <td>2019-11-14 15:55</td>        <td>BIC:</td>         <td>34896.5166</td>\n",
       "</tr>\n",
       "<tr>\n",
       "   <td>No. Observations:</td>        <td>1460</td>         <td>Log-Likelihood:</td>     <td>-17339.</td> \n",
       "</tr>\n",
       "<tr>\n",
       "       <td>Df Model:</td>             <td>29</td>           <td>F-statistic:</td>        <td>207.6</td>  \n",
       "</tr>\n",
       "<tr>\n",
       "     <td>Df Residuals:</td>          <td>1430</td>       <td>Prob (F-statistic):</td>    <td>0.00</td>   \n",
       "</tr>\n",
       "<tr>\n",
       "      <td>R-squared:</td>            <td>0.808</td>            <td>Scale:</td>        <td>1.2357e+09</td>\n",
       "</tr>\n",
       "</table>\n",
       "<table class=\"simpletable\">\n",
       "<tr>\n",
       "        <td></td>           <th>Coef.</th>      <th>Std.Err.</th>      <th>t</th>     <th>P>|t|</th>    <th>[0.025</th>        <th>0.975]</th>   \n",
       "</tr>\n",
       "<tr>\n",
       "  <th>const</th>         <td>608246.1995</td> <td>1428003.7488</td> <td>0.4259</td>  <td>0.6702</td> <td>-2192960.6498</td> <td>3409453.0488</td>\n",
       "</tr>\n",
       "<tr>\n",
       "  <th>MSSubClass</th>     <td>-161.5055</td>     <td>26.4469</td>   <td>-6.1068</td> <td>0.0000</td>   <td>-213.3845</td>     <td>-109.6266</td> \n",
       "</tr>\n",
       "<tr>\n",
       "  <th>LotArea</th>         <td>0.3868</td>       <td>0.1016</td>    <td>3.8079</td>  <td>0.0001</td>    <td>0.1875</td>        <td>0.5860</td>   \n",
       "</tr>\n",
       "<tr>\n",
       "  <th>OverallQual</th>   <td>18012.7658</td>    <td>1194.9364</td>  <td>15.0742</td> <td>0.0000</td>  <td>15668.7495</td>    <td>20356.7821</td> \n",
       "</tr>\n",
       "<tr>\n",
       "  <th>OverallCond</th>    <td>4425.5378</td>    <td>1031.1020</td>  <td>4.2920</td>  <td>0.0000</td>   <td>2402.9031</td>     <td>6448.1725</td> \n",
       "</tr>\n",
       "<tr>\n",
       "  <th>YearBuilt</th>      <td>349.4880</td>      <td>61.2239</td>   <td>5.7084</td>  <td>0.0000</td>   <td>229.3896</td>      <td>469.5863</td>  \n",
       "</tr>\n",
       "<tr>\n",
       "  <th>YearRemodAdd</th>   <td>140.9941</td>      <td>66.3557</td>   <td>2.1248</td>  <td>0.0338</td>    <td>10.8292</td>      <td>271.1590</td>  \n",
       "</tr>\n",
       "<tr>\n",
       "  <th>BsmtUnfSF</th>       <td>-9.7412</td>      <td>3.1432</td>    <td>-3.0991</td> <td>0.0020</td>   <td>-15.9070</td>       <td>-3.5754</td>  \n",
       "</tr>\n",
       "<tr>\n",
       "  <th>TotalBsmtSF</th>     <td>20.5078</td>      <td>4.5849</td>    <td>4.4729</td>  <td>0.0000</td>    <td>11.5140</td>       <td>29.5016</td>  \n",
       "</tr>\n",
       "<tr>\n",
       "  <th>1stFlrSF</th>        <td>18.9417</td>      <td>6.1645</td>    <td>3.0727</td>  <td>0.0022</td>    <td>6.8492</td>        <td>31.0341</td>  \n",
       "</tr>\n",
       "<tr>\n",
       "  <th>2ndFlrSF</th>        <td>19.5079</td>      <td>5.7011</td>    <td>3.4218</td>  <td>0.0006</td>    <td>8.3244</td>        <td>30.6914</td>  \n",
       "</tr>\n",
       "<tr>\n",
       "  <th>LowQualFinSF</th>    <td>-6.7807</td>      <td>14.8869</td>   <td>-0.4555</td> <td>0.6488</td>   <td>-35.9831</td>       <td>22.4218</td>  \n",
       "</tr>\n",
       "<tr>\n",
       "  <th>GrLivArea</th>       <td>31.6689</td>      <td>5.7075</td>    <td>5.5486</td>  <td>0.0000</td>    <td>20.4729</td>       <td>42.8650</td>  \n",
       "</tr>\n",
       "<tr>\n",
       "  <th>BsmtFullBath</th>   <td>8400.0052</td>    <td>2512.7996</td>  <td>3.3429</td>  <td>0.0009</td>   <td>3470.8365</td>    <td>13329.1738</td> \n",
       "</tr>\n",
       "<tr>\n",
       "  <th>FullBath</th>       <td>3414.1786</td>    <td>2838.1391</td>  <td>1.2030</td>  <td>0.2292</td>  <td>-2153.1840</td>     <td>8981.5413</td> \n",
       "</tr>\n",
       "<tr>\n",
       "  <th>HalfBath</th>      <td>-1549.1048</td>    <td>2690.0026</td>  <td>-0.5759</td> <td>0.5648</td>  <td>-6825.8793</td>     <td>3727.6697</td> \n",
       "</tr>\n",
       "<tr>\n",
       "  <th>BedroomAbvGr</th>  <td>-10546.9569</td>   <td>1704.6005</td>  <td>-6.1873</td> <td>0.0000</td>  <td>-13890.7426</td>   <td>-7203.1712</td> \n",
       "</tr>\n",
       "<tr>\n",
       "  <th>KitchenAbvGr</th>  <td>-12589.7919</td>   <td>5254.5163</td>  <td>-2.3960</td> <td>0.0167</td>  <td>-22897.1787</td>   <td>-2282.4051</td> \n",
       "</tr>\n",
       "<tr>\n",
       "  <th>TotRmsAbvGrd</th>   <td>5095.3485</td>    <td>1250.1490</td>  <td>4.0758</td>  <td>0.0000</td>   <td>2643.0258</td>     <td>7547.6713</td> \n",
       "</tr>\n",
       "<tr>\n",
       "  <th>Fireplaces</th>     <td>3707.1220</td>    <td>1784.0235</td>  <td>2.0780</td>  <td>0.0379</td>   <td>207.5382</td>      <td>7206.7058</td> \n",
       "</tr>\n",
       "<tr>\n",
       "  <th>GarageCars</th>    <td>10562.3784</td>    <td>2884.3767</td>  <td>3.6619</td>  <td>0.0003</td>   <td>4904.3150</td>    <td>16220.4418</td> \n",
       "</tr>\n",
       "<tr>\n",
       "  <th>GarageArea</th>      <td>2.1462</td>       <td>9.7916</td>    <td>0.2192</td>  <td>0.8265</td>   <td>-17.0613</td>       <td>21.3537</td>  \n",
       "</tr>\n",
       "<tr>\n",
       "  <th>WoodDeckSF</th>      <td>25.7208</td>      <td>8.0357</td>    <td>3.2008</td>  <td>0.0014</td>    <td>9.9578</td>        <td>41.4838</td>  \n",
       "</tr>\n",
       "<tr>\n",
       "  <th>OpenPorchSF</th>     <td>-6.2873</td>      <td>15.3029</td>   <td>-0.4109</td> <td>0.6812</td>   <td>-36.3058</td>       <td>23.7312</td>  \n",
       "</tr>\n",
       "<tr>\n",
       "  <th>EnclosedPorch</th>   <td>6.6916</td>       <td>17.0190</td>   <td>0.3932</td>  <td>0.6942</td>   <td>-26.6932</td>       <td>40.0765</td>  \n",
       "</tr>\n",
       "<tr>\n",
       "  <th>3SsnPorch</th>       <td>21.6727</td>      <td>31.6870</td>   <td>0.6840</td>  <td>0.4941</td>   <td>-40.4854</td>       <td>83.8308</td>  \n",
       "</tr>\n",
       "<tr>\n",
       "  <th>ScreenPorch</th>     <td>55.1441</td>      <td>17.3306</td>   <td>3.1819</td>  <td>0.0015</td>    <td>21.1479</td>       <td>89.1403</td>  \n",
       "</tr>\n",
       "<tr>\n",
       "  <th>PoolArea</th>       <td>-42.4124</td>      <td>23.8035</td>   <td>-1.7818</td> <td>0.0750</td>   <td>-89.1059</td>       <td>4.2810</td>   \n",
       "</tr>\n",
       "<tr>\n",
       "  <th>MiscVal</th>         <td>-0.8946</td>      <td>1.8753</td>    <td>-0.4770</td> <td>0.6334</td>    <td>-4.5731</td>       <td>2.7840</td>   \n",
       "</tr>\n",
       "<tr>\n",
       "  <th>MoSold</th>         <td>-111.5227</td>    <td>348.4163</td>   <td>-0.3201</td> <td>0.7490</td>   <td>-794.9846</td>     <td>571.9391</td>  \n",
       "</tr>\n",
       "<tr>\n",
       "  <th>YrSold</th>         <td>-817.2240</td>    <td>709.7266</td>   <td>-1.1515</td> <td>0.2497</td>  <td>-2209.4410</td>     <td>574.9931</td>  \n",
       "</tr>\n",
       "</table>\n",
       "<table class=\"simpletable\">\n",
       "<tr>\n",
       "     <td>Omnibus:</td>    <td>540.774</td>  <td>Durbin-Watson:</td>         <td>1.961</td>      \n",
       "</tr>\n",
       "<tr>\n",
       "  <td>Prob(Omnibus):</td>  <td>0.000</td>  <td>Jarque-Bera (JB):</td>     <td>95836.983</td>    \n",
       "</tr>\n",
       "<tr>\n",
       "       <td>Skew:</td>     <td>-0.553</td>      <td>Prob(JB):</td>           <td>0.000</td>      \n",
       "</tr>\n",
       "<tr>\n",
       "     <td>Kurtosis:</td>   <td>42.676</td>   <td>Condition No.:</td>   <td>13129423541445018</td>\n",
       "</tr>\n",
       "</table>"
      ],
      "text/plain": [
       "<class 'statsmodels.iolib.summary2.Summary'>\n",
       "\"\"\"\n",
       "                        Results: Ordinary least squares\n",
       "================================================================================\n",
       "Model:                   OLS                  Adj. R-squared:         0.804     \n",
       "Dependent Variable:      SalePrice            AIC:                    34737.9309\n",
       "Date:                    2019-11-14 15:55     BIC:                    34896.5166\n",
       "No. Observations:        1460                 Log-Likelihood:         -17339.   \n",
       "Df Model:                29                   F-statistic:            207.6     \n",
       "Df Residuals:            1430                 Prob (F-statistic):     0.00      \n",
       "R-squared:               0.808                Scale:                  1.2357e+09\n",
       "--------------------------------------------------------------------------------\n",
       "                 Coef.      Std.Err.      t    P>|t|      [0.025       0.975]   \n",
       "--------------------------------------------------------------------------------\n",
       "const         608246.1995 1428003.7488  0.4259 0.6702 -2192960.6498 3409453.0488\n",
       "MSSubClass      -161.5055      26.4469 -6.1068 0.0000     -213.3845    -109.6266\n",
       "LotArea            0.3868       0.1016  3.8079 0.0001        0.1875       0.5860\n",
       "OverallQual    18012.7658    1194.9364 15.0742 0.0000    15668.7495   20356.7821\n",
       "OverallCond     4425.5378    1031.1020  4.2920 0.0000     2402.9031    6448.1725\n",
       "YearBuilt        349.4880      61.2239  5.7084 0.0000      229.3896     469.5863\n",
       "YearRemodAdd     140.9941      66.3557  2.1248 0.0338       10.8292     271.1590\n",
       "BsmtUnfSF         -9.7412       3.1432 -3.0991 0.0020      -15.9070      -3.5754\n",
       "TotalBsmtSF       20.5078       4.5849  4.4729 0.0000       11.5140      29.5016\n",
       "1stFlrSF          18.9417       6.1645  3.0727 0.0022        6.8492      31.0341\n",
       "2ndFlrSF          19.5079       5.7011  3.4218 0.0006        8.3244      30.6914\n",
       "LowQualFinSF      -6.7807      14.8869 -0.4555 0.6488      -35.9831      22.4218\n",
       "GrLivArea         31.6689       5.7075  5.5486 0.0000       20.4729      42.8650\n",
       "BsmtFullBath    8400.0052    2512.7996  3.3429 0.0009     3470.8365   13329.1738\n",
       "FullBath        3414.1786    2838.1391  1.2030 0.2292    -2153.1840    8981.5413\n",
       "HalfBath       -1549.1048    2690.0026 -0.5759 0.5648    -6825.8793    3727.6697\n",
       "BedroomAbvGr  -10546.9569    1704.6005 -6.1873 0.0000   -13890.7426   -7203.1712\n",
       "KitchenAbvGr  -12589.7919    5254.5163 -2.3960 0.0167   -22897.1787   -2282.4051\n",
       "TotRmsAbvGrd    5095.3485    1250.1490  4.0758 0.0000     2643.0258    7547.6713\n",
       "Fireplaces      3707.1220    1784.0235  2.0780 0.0379      207.5382    7206.7058\n",
       "GarageCars     10562.3784    2884.3767  3.6619 0.0003     4904.3150   16220.4418\n",
       "GarageArea         2.1462       9.7916  0.2192 0.8265      -17.0613      21.3537\n",
       "WoodDeckSF        25.7208       8.0357  3.2008 0.0014        9.9578      41.4838\n",
       "OpenPorchSF       -6.2873      15.3029 -0.4109 0.6812      -36.3058      23.7312\n",
       "EnclosedPorch      6.6916      17.0190  0.3932 0.6942      -26.6932      40.0765\n",
       "3SsnPorch         21.6727      31.6870  0.6840 0.4941      -40.4854      83.8308\n",
       "ScreenPorch       55.1441      17.3306  3.1819 0.0015       21.1479      89.1403\n",
       "PoolArea         -42.4124      23.8035 -1.7818 0.0750      -89.1059       4.2810\n",
       "MiscVal           -0.8946       1.8753 -0.4770 0.6334       -4.5731       2.7840\n",
       "MoSold          -111.5227     348.4163 -0.3201 0.7490     -794.9846     571.9391\n",
       "YrSold          -817.2240     709.7266 -1.1515 0.2497    -2209.4410     574.9931\n",
       "--------------------------------------------------------------------------------\n",
       "Omnibus:               540.774        Durbin-Watson:           1.961            \n",
       "Prob(Omnibus):         0.000          Jarque-Bera (JB):        95836.983        \n",
       "Skew:                  -0.553         Prob(JB):                0.000            \n",
       "Kurtosis:              42.676         Condition No.:           13129423541445018\n",
       "================================================================================\n",
       "* The condition number is large (1e+16). This might indicate             strong\n",
       "multicollinearity or other numerical problems.\n",
       "\"\"\""
      ]
     },
     "execution_count": 21,
     "metadata": {},
     "output_type": "execute_result"
    }
   ],
   "source": [
    "results.summary2()"
   ]
  },
  {
   "cell_type": "markdown",
   "metadata": {},
   "source": [
    "**Resuls explanation:**\n",
    "\n",
    "* $R^2 = 0.808$\n",
    "* $R^2_{adj} = 0.804$\n",
    "* Log-Likelihood = -1733 - A value of Likelihood function in the optimal point\n",
    "* AIC = 34738 - Akaike information criterion, is used for model selection purposes. Preferred model is the one with the minimum AIC value\n",
    "* BIC = 34897 - Bayesian information criterion, the same purposes as for AIC\n",
    "* F-statistic = 208\n",
    "\n",
    "**F- Test for the overall model significance**:\n",
    "\n",
    "$H_{0}$ : The fit of intercept only model and the current model is same. i.e. Additional variables do not provide value taken together\n",
    "\n",
    "$H_{1}$ : The fit of intercept only model is significantly less compared to our current model. i.e. Additional variables do make the model significantly better.\n",
    "\n",
    "$F = \\frac{R^2/(k-1)}{(1-R^2)/(n-k)}$,\n",
    "\n",
    "where $k$ - the number of variables (with intercept term), $n$ - the number of observations\n",
    "\n",
    "\n",
    "If the calculated F-value is greater than the F value from the statistical table, than we can reject the $H_{0}$ hypothesis\n",
    "\n",
    "* Prob(F-statistic) = 0.0 - P-value for F-test\n",
    "* Df model - degrees of freedom of the model\n",
    "* Df Residuals - degrees of freedom of the errors\n",
    "\n",
    "**Note:** don't be confused with the values of Df (!). THe true values is calculated above. In this specific realization of OLS, DF model is calculated as a rank of the X matrix, which equals to 29\n",
    "\n",
    "* Scale - squared standard error of the regression\n",
    "\n",
    "* Durbin-Watson = 1.96; DW is a test for autocorrelation of the errors. DW value always lies between 0 and 4. If , DW << 2 there is a positive serial correlation, if DW >> 2 - there is a negative correlation\n"
   ]
  },
  {
   "cell_type": "markdown",
   "metadata": {},
   "source": [
    "**Note:** not all the variables are significant. What should we do next? There is a number of methods (a.k.a. Feature engineering):\n",
    "\n",
    "* **Elimination by P-value:**\n",
    "\n",
    "Build a model using a full set of features. Then, eliminate the insignificant features sequentially starting from the one with the highest P-value\n",
    "\n",
    "* **Forward elimination:**\n",
    "\n",
    "Build all possible regression models with a single predictor and pick the best one. Then try all possible models that include that best predictor plus a second predictor. Pick the best of those. You keep adding one feature at a time, and you stop when your model no longer improves or starts worsening. \n",
    "\n",
    "* **Backward elimination:**\n",
    "\n",
    "Build a regression model that includes a full set of predictors. Next, gradually remove one at a time according to the predictor whose removal makes the biggest improvement. You stop removing predictors when the removal makes the predictive model worsen."
   ]
  },
  {
   "cell_type": "markdown",
   "metadata": {},
   "source": [
    "### Task 1: \n",
    "\n",
    "* Find collinear variables and leave only one of them "
   ]
  },
  {
   "cell_type": "markdown",
   "metadata": {},
   "source": [
    "**Solution**\n",
    "\n",
    "We have 30 features in total. And the rank of the feature matrix X should be also 30. Let's check this:"
   ]
  },
  {
   "cell_type": "code",
   "execution_count": 22,
   "metadata": {},
   "outputs": [],
   "source": [
    "X = data.drop(['SalePrice'], axis=1)"
   ]
  },
  {
   "cell_type": "code",
   "execution_count": 23,
   "metadata": {},
   "outputs": [
    {
     "name": "stdout",
     "output_type": "stream",
     "text": [
      "Total number of features (without the constant term): 30\n"
     ]
    }
   ],
   "source": [
    "print('Total number of features (without the constant term): {}'.format(X.shape[1]))"
   ]
  },
  {
   "cell_type": "code",
   "execution_count": 24,
   "metadata": {},
   "outputs": [
    {
     "name": "stdout",
     "output_type": "stream",
     "text": [
      "Rank = 29\n"
     ]
    }
   ],
   "source": [
    "print('Rank = {}'.format(np.linalg.matrix_rank(X)))"
   ]
  },
  {
   "cell_type": "markdown",
   "metadata": {},
   "source": [
    "As we can see, the number of features is greater then the matrix rank. This means that there are some features that are linearly dependent. We need to find these features and eliminate one of them."
   ]
  },
  {
   "cell_type": "markdown",
   "metadata": {},
   "source": [
    "First, let's have a look into the correlation matrix heatmap:"
   ]
  },
  {
   "cell_type": "code",
   "execution_count": 25,
   "metadata": {},
   "outputs": [
    {
     "data": {
      "image/png": "[encoded data removed]",
      "text/plain": [
       "<Figure size 792x648 with 2 Axes>"
      ]
     },
     "metadata": {},
     "output_type": "display_data"
    }
   ],
   "source": [
    "dt=data.drop('SalePrice', axis=1)\n",
    "sns.set(style=\"white\")\n",
    "\n",
    "# Compute the correlation matrix\n",
    "corr = dt.corr()\n",
    "\n",
    "# Generate a mask for the upper triangle\n",
    "mask = np.zeros_like(corr, dtype=np.bool)\n",
    "mask[np.triu_indices_from(mask)] = True\n",
    "\n",
    "# Set up the matplotlib figure\n",
    "f, ax = plt.subplots(figsize=(11, 9))\n",
    "\n",
    "# Generate a custom diverging colormap\n",
    "cmap = sns.diverging_palette(220, 10, as_cmap=True)\n",
    "\n",
    "# Draw the heatmap with the mask and correct aspect ratio\n",
    "sns.heatmap(corr, mask=mask, cmap=cmap, center=0,\n",
    "            square=True, linewidths=.5, cbar_kws={\"shrink\": .5})\n",
    "plt.show()"
   ]
  },
  {
   "cell_type": "markdown",
   "metadata": {},
   "source": [
    "Looks like there are 3 pairs of highly correlated features:\n",
    "* 'GarageCars' and 'GarageArea' \n",
    "* 'TotRmsAbvGrd' and 'GrLivArea'\n",
    "* '1stFlrSF' and 'TotalBsmtSF'"
   ]
  },
  {
   "cell_type": "markdown",
   "metadata": {},
   "source": [
    "Let's check the correlation:"
   ]
  },
  {
   "cell_type": "code",
   "execution_count": 26,
   "metadata": {},
   "outputs": [
    {
     "data": {
      "text/plain": [
       "GarageArea    0.882475\n",
       "Name: GarageCars, dtype: float64"
      ]
     },
     "execution_count": 26,
     "metadata": {},
     "output_type": "execute_result"
    }
   ],
   "source": [
    "# correlation between the pairs\n",
    "corr.GarageCars[corr.index == 'GarageArea']"
   ]
  },
  {
   "cell_type": "code",
   "execution_count": 27,
   "metadata": {},
   "outputs": [
    {
     "data": {
      "text/plain": [
       "GrLivArea    0.825489\n",
       "Name: TotRmsAbvGrd, dtype: float64"
      ]
     },
     "execution_count": 27,
     "metadata": {},
     "output_type": "execute_result"
    }
   ],
   "source": [
    "corr.TotRmsAbvGrd[corr.index == 'GrLivArea']"
   ]
  },
  {
   "cell_type": "code",
   "execution_count": 28,
   "metadata": {},
   "outputs": [
    {
     "data": {
      "text/plain": [
       "TotalBsmtSF    0.81953\n",
       "Name: 1stFlrSF, dtype: float64"
      ]
     },
     "execution_count": 28,
     "metadata": {},
     "output_type": "execute_result"
    }
   ],
   "source": [
    "corr['1stFlrSF'][corr.index == 'TotalBsmtSF']"
   ]
  },
  {
   "cell_type": "markdown",
   "metadata": {},
   "source": [
    "There are no pairs with corr = 1. Then, how to find the linearly dependent features?"
   ]
  },
  {
   "cell_type": "code",
   "execution_count": 29,
   "metadata": {},
   "outputs": [
    {
     "data": {
      "text/plain": [
       "Id\n",
       "1    1710\n",
       "2    1262\n",
       "3    1786\n",
       "4    1717\n",
       "5    2198\n",
       "dtype: int64"
      ]
     },
     "execution_count": 29,
     "metadata": {},
     "output_type": "execute_result"
    }
   ],
   "source": [
    "sum_of_three_features = data.PoolArea + data['1stFlrSF'] + data['2ndFlrSF']\n",
    "sum_of_three_features.head()"
   ]
  },
  {
   "cell_type": "code",
   "execution_count": 30,
   "metadata": {},
   "outputs": [
    {
     "data": {
      "text/plain": [
       "Id\n",
       "1    1710\n",
       "2    1262\n",
       "3    1786\n",
       "4    1717\n",
       "5    2198\n",
       "Name: GrLivArea, dtype: int64"
      ]
     },
     "execution_count": 30,
     "metadata": {},
     "output_type": "execute_result"
    }
   ],
   "source": [
    "data.GrLivArea.head()"
   ]
  },
  {
   "cell_type": "code",
   "execution_count": 31,
   "metadata": {},
   "outputs": [
    {
     "data": {
      "text/plain": [
       "True"
      ]
     },
     "execution_count": 31,
     "metadata": {},
     "output_type": "execute_result"
    }
   ],
   "source": [
    "sum_of_three_features.all() == data.GrLivArea.all()"
   ]
  },
  {
   "cell_type": "markdown",
   "metadata": {},
   "source": [
    "**GrLivArea** is a sum of **PoolArea**, **1stFlrSF**, **2ndFlrSF**. So. we need to eliminate **GrLivArea**"
   ]
  },
  {
   "cell_type": "code",
   "execution_count": 32,
   "metadata": {},
   "outputs": [],
   "source": [
    "X = data.drop(['SalePrice', 'GrLivArea'], axis=1)\n",
    "Y = data.SalePrice\n",
    "#add the constant term to the data\n",
    "X = sm.add_constant(X)\n",
    "#define the model\n",
    "model = sm.OLS(Y, X)\n",
    "#fit the model\n",
    "results = model.fit()"
   ]
  },
  {
   "cell_type": "code",
   "execution_count": 33,
   "metadata": {},
   "outputs": [
    {
     "data": {
      "text/plain": [
       "30"
      ]
     },
     "execution_count": 33,
     "metadata": {},
     "output_type": "execute_result"
    }
   ],
   "source": [
    "np.linalg.matrix_rank(X)"
   ]
  },
  {
   "cell_type": "code",
   "execution_count": 34,
   "metadata": {},
   "outputs": [
    {
     "data": {
      "text/plain": [
       "30"
      ]
     },
     "execution_count": 34,
     "metadata": {},
     "output_type": "execute_result"
    }
   ],
   "source": [
    "X.shape[1]"
   ]
  },
  {
   "cell_type": "code",
   "execution_count": 35,
   "metadata": {},
   "outputs": [
    {
     "data": {
      "text/html": [
       "<table class=\"simpletable\">\n",
       "<tr>\n",
       "        <td>Model:</td>               <td>OLS</td>         <td>Adj. R-squared:</td>      <td>0.804</td>  \n",
       "</tr>\n",
       "<tr>\n",
       "  <td>Dependent Variable:</td>     <td>SalePrice</td>           <td>AIC:</td>         <td>34737.9309</td>\n",
       "</tr>\n",
       "<tr>\n",
       "         <td>Date:</td>        <td>2019-11-14 15:55</td>        <td>BIC:</td>         <td>34896.5166</td>\n",
       "</tr>\n",
       "<tr>\n",
       "   <td>No. Observations:</td>        <td>1460</td>         <td>Log-Likelihood:</td>     <td>-17339.</td> \n",
       "</tr>\n",
       "<tr>\n",
       "       <td>Df Model:</td>             <td>29</td>           <td>F-statistic:</td>        <td>207.6</td>  \n",
       "</tr>\n",
       "<tr>\n",
       "     <td>Df Residuals:</td>          <td>1430</td>       <td>Prob (F-statistic):</td>    <td>0.00</td>   \n",
       "</tr>\n",
       "<tr>\n",
       "      <td>R-squared:</td>            <td>0.808</td>            <td>Scale:</td>        <td>1.2357e+09</td>\n",
       "</tr>\n",
       "</table>\n",
       "<table class=\"simpletable\">\n",
       "<tr>\n",
       "        <td></td>           <th>Coef.</th>      <th>Std.Err.</th>      <th>t</th>     <th>P>|t|</th>    <th>[0.025</th>        <th>0.975]</th>   \n",
       "</tr>\n",
       "<tr>\n",
       "  <th>const</th>         <td>608246.1995</td> <td>1428003.7488</td> <td>0.4259</td>  <td>0.6702</td> <td>-2192960.6498</td> <td>3409453.0488</td>\n",
       "</tr>\n",
       "<tr>\n",
       "  <th>MSSubClass</th>     <td>-161.5055</td>     <td>26.4469</td>   <td>-6.1068</td> <td>0.0000</td>   <td>-213.3845</td>     <td>-109.6266</td> \n",
       "</tr>\n",
       "<tr>\n",
       "  <th>LotArea</th>         <td>0.3868</td>       <td>0.1016</td>    <td>3.8079</td>  <td>0.0001</td>    <td>0.1875</td>        <td>0.5860</td>   \n",
       "</tr>\n",
       "<tr>\n",
       "  <th>OverallQual</th>   <td>18012.7658</td>    <td>1194.9364</td>  <td>15.0742</td> <td>0.0000</td>  <td>15668.7495</td>    <td>20356.7821</td> \n",
       "</tr>\n",
       "<tr>\n",
       "  <th>OverallCond</th>    <td>4425.5378</td>    <td>1031.1020</td>  <td>4.2920</td>  <td>0.0000</td>   <td>2402.9031</td>     <td>6448.1725</td> \n",
       "</tr>\n",
       "<tr>\n",
       "  <th>YearBuilt</th>      <td>349.4880</td>      <td>61.2239</td>   <td>5.7084</td>  <td>0.0000</td>   <td>229.3896</td>      <td>469.5863</td>  \n",
       "</tr>\n",
       "<tr>\n",
       "  <th>YearRemodAdd</th>   <td>140.9941</td>      <td>66.3557</td>   <td>2.1248</td>  <td>0.0338</td>    <td>10.8292</td>      <td>271.1590</td>  \n",
       "</tr>\n",
       "<tr>\n",
       "  <th>BsmtUnfSF</th>       <td>-9.7412</td>      <td>3.1432</td>    <td>-3.0991</td> <td>0.0020</td>   <td>-15.9070</td>       <td>-3.5754</td>  \n",
       "</tr>\n",
       "<tr>\n",
       "  <th>TotalBsmtSF</th>     <td>20.5078</td>      <td>4.5849</td>    <td>4.4729</td>  <td>0.0000</td>    <td>11.5140</td>       <td>29.5016</td>  \n",
       "</tr>\n",
       "<tr>\n",
       "  <th>1stFlrSF</th>        <td>50.6106</td>      <td>5.8085</td>    <td>8.7132</td>  <td>0.0000</td>    <td>39.2166</td>       <td>62.0046</td>  \n",
       "</tr>\n",
       "<tr>\n",
       "  <th>2ndFlrSF</th>        <td>51.1768</td>      <td>4.9817</td>    <td>10.2730</td> <td>0.0000</td>    <td>41.4047</td>       <td>60.9490</td>  \n",
       "</tr>\n",
       "<tr>\n",
       "  <th>LowQualFinSF</th>    <td>24.8883</td>      <td>19.9110</td>   <td>1.2500</td>  <td>0.2115</td>   <td>-14.1697</td>       <td>63.9462</td>  \n",
       "</tr>\n",
       "<tr>\n",
       "  <th>BsmtFullBath</th>   <td>8400.0052</td>    <td>2512.7996</td>  <td>3.3429</td>  <td>0.0009</td>   <td>3470.8365</td>    <td>13329.1738</td> \n",
       "</tr>\n",
       "<tr>\n",
       "  <th>FullBath</th>       <td>3414.1786</td>    <td>2838.1391</td>  <td>1.2030</td>  <td>0.2292</td>  <td>-2153.1840</td>     <td>8981.5413</td> \n",
       "</tr>\n",
       "<tr>\n",
       "  <th>HalfBath</th>      <td>-1549.1048</td>    <td>2690.0026</td>  <td>-0.5759</td> <td>0.5648</td>  <td>-6825.8793</td>     <td>3727.6697</td> \n",
       "</tr>\n",
       "<tr>\n",
       "  <th>BedroomAbvGr</th>  <td>-10546.9569</td>   <td>1704.6005</td>  <td>-6.1873</td> <td>0.0000</td>  <td>-13890.7426</td>   <td>-7203.1712</td> \n",
       "</tr>\n",
       "<tr>\n",
       "  <th>KitchenAbvGr</th>  <td>-12589.7919</td>   <td>5254.5163</td>  <td>-2.3960</td> <td>0.0167</td>  <td>-22897.1787</td>   <td>-2282.4051</td> \n",
       "</tr>\n",
       "<tr>\n",
       "  <th>TotRmsAbvGrd</th>   <td>5095.3485</td>    <td>1250.1490</td>  <td>4.0758</td>  <td>0.0000</td>   <td>2643.0258</td>     <td>7547.6713</td> \n",
       "</tr>\n",
       "<tr>\n",
       "  <th>Fireplaces</th>     <td>3707.1220</td>    <td>1784.0235</td>  <td>2.0780</td>  <td>0.0379</td>   <td>207.5382</td>      <td>7206.7058</td> \n",
       "</tr>\n",
       "<tr>\n",
       "  <th>GarageCars</th>    <td>10562.3784</td>    <td>2884.3767</td>  <td>3.6619</td>  <td>0.0003</td>   <td>4904.3150</td>    <td>16220.4418</td> \n",
       "</tr>\n",
       "<tr>\n",
       "  <th>GarageArea</th>      <td>2.1462</td>       <td>9.7916</td>    <td>0.2192</td>  <td>0.8265</td>   <td>-17.0613</td>       <td>21.3537</td>  \n",
       "</tr>\n",
       "<tr>\n",
       "  <th>WoodDeckSF</th>      <td>25.7208</td>      <td>8.0357</td>    <td>3.2008</td>  <td>0.0014</td>    <td>9.9578</td>        <td>41.4838</td>  \n",
       "</tr>\n",
       "<tr>\n",
       "  <th>OpenPorchSF</th>     <td>-6.2873</td>      <td>15.3029</td>   <td>-0.4109</td> <td>0.6812</td>   <td>-36.3058</td>       <td>23.7312</td>  \n",
       "</tr>\n",
       "<tr>\n",
       "  <th>EnclosedPorch</th>   <td>6.6916</td>       <td>17.0190</td>   <td>0.3932</td>  <td>0.6942</td>   <td>-26.6932</td>       <td>40.0765</td>  \n",
       "</tr>\n",
       "<tr>\n",
       "  <th>3SsnPorch</th>       <td>21.6727</td>      <td>31.6870</td>   <td>0.6840</td>  <td>0.4941</td>   <td>-40.4854</td>       <td>83.8308</td>  \n",
       "</tr>\n",
       "<tr>\n",
       "  <th>ScreenPorch</th>     <td>55.1441</td>      <td>17.3306</td>   <td>3.1819</td>  <td>0.0015</td>    <td>21.1479</td>       <td>89.1403</td>  \n",
       "</tr>\n",
       "<tr>\n",
       "  <th>PoolArea</th>       <td>-42.4124</td>      <td>23.8035</td>   <td>-1.7818</td> <td>0.0750</td>   <td>-89.1059</td>       <td>4.2810</td>   \n",
       "</tr>\n",
       "<tr>\n",
       "  <th>MiscVal</th>         <td>-0.8946</td>      <td>1.8753</td>    <td>-0.4770</td> <td>0.6334</td>    <td>-4.5731</td>       <td>2.7840</td>   \n",
       "</tr>\n",
       "<tr>\n",
       "  <th>MoSold</th>         <td>-111.5227</td>    <td>348.4163</td>   <td>-0.3201</td> <td>0.7490</td>   <td>-794.9846</td>     <td>571.9391</td>  \n",
       "</tr>\n",
       "<tr>\n",
       "  <th>YrSold</th>         <td>-817.2240</td>    <td>709.7266</td>   <td>-1.1515</td> <td>0.2497</td>  <td>-2209.4410</td>     <td>574.9931</td>  \n",
       "</tr>\n",
       "</table>\n",
       "<table class=\"simpletable\">\n",
       "<tr>\n",
       "     <td>Omnibus:</td>    <td>540.774</td>  <td>Durbin-Watson:</td>     <td>1.961</td>  \n",
       "</tr>\n",
       "<tr>\n",
       "  <td>Prob(Omnibus):</td>  <td>0.000</td>  <td>Jarque-Bera (JB):</td> <td>95836.983</td>\n",
       "</tr>\n",
       "<tr>\n",
       "       <td>Skew:</td>     <td>-0.553</td>      <td>Prob(JB):</td>       <td>0.000</td>  \n",
       "</tr>\n",
       "<tr>\n",
       "     <td>Kurtosis:</td>   <td>42.676</td>   <td>Condition No.:</td>   <td>22951016</td> \n",
       "</tr>\n",
       "</table>"
      ],
      "text/plain": [
       "<class 'statsmodels.iolib.summary2.Summary'>\n",
       "\"\"\"\n",
       "                        Results: Ordinary least squares\n",
       "================================================================================\n",
       "Model:                   OLS                  Adj. R-squared:         0.804     \n",
       "Dependent Variable:      SalePrice            AIC:                    34737.9309\n",
       "Date:                    2019-11-14 15:55     BIC:                    34896.5166\n",
       "No. Observations:        1460                 Log-Likelihood:         -17339.   \n",
       "Df Model:                29                   F-statistic:            207.6     \n",
       "Df Residuals:            1430                 Prob (F-statistic):     0.00      \n",
       "R-squared:               0.808                Scale:                  1.2357e+09\n",
       "--------------------------------------------------------------------------------\n",
       "                 Coef.      Std.Err.      t    P>|t|      [0.025       0.975]   \n",
       "--------------------------------------------------------------------------------\n",
       "const         608246.1995 1428003.7488  0.4259 0.6702 -2192960.6498 3409453.0488\n",
       "MSSubClass      -161.5055      26.4469 -6.1068 0.0000     -213.3845    -109.6266\n",
       "LotArea            0.3868       0.1016  3.8079 0.0001        0.1875       0.5860\n",
       "OverallQual    18012.7658    1194.9364 15.0742 0.0000    15668.7495   20356.7821\n",
       "OverallCond     4425.5378    1031.1020  4.2920 0.0000     2402.9031    6448.1725\n",
       "YearBuilt        349.4880      61.2239  5.7084 0.0000      229.3896     469.5863\n",
       "YearRemodAdd     140.9941      66.3557  2.1248 0.0338       10.8292     271.1590\n",
       "BsmtUnfSF         -9.7412       3.1432 -3.0991 0.0020      -15.9070      -3.5754\n",
       "TotalBsmtSF       20.5078       4.5849  4.4729 0.0000       11.5140      29.5016\n",
       "1stFlrSF          50.6106       5.8085  8.7132 0.0000       39.2166      62.0046\n",
       "2ndFlrSF          51.1768       4.9817 10.2730 0.0000       41.4047      60.9490\n",
       "LowQualFinSF      24.8883      19.9110  1.2500 0.2115      -14.1697      63.9462\n",
       "BsmtFullBath    8400.0052    2512.7996  3.3429 0.0009     3470.8365   13329.1738\n",
       "FullBath        3414.1786    2838.1391  1.2030 0.2292    -2153.1840    8981.5413\n",
       "HalfBath       -1549.1048    2690.0026 -0.5759 0.5648    -6825.8793    3727.6697\n",
       "BedroomAbvGr  -10546.9569    1704.6005 -6.1873 0.0000   -13890.7426   -7203.1712\n",
       "KitchenAbvGr  -12589.7919    5254.5163 -2.3960 0.0167   -22897.1787   -2282.4051\n",
       "TotRmsAbvGrd    5095.3485    1250.1490  4.0758 0.0000     2643.0258    7547.6713\n",
       "Fireplaces      3707.1220    1784.0235  2.0780 0.0379      207.5382    7206.7058\n",
       "GarageCars     10562.3784    2884.3767  3.6619 0.0003     4904.3150   16220.4418\n",
       "GarageArea         2.1462       9.7916  0.2192 0.8265      -17.0613      21.3537\n",
       "WoodDeckSF        25.7208       8.0357  3.2008 0.0014        9.9578      41.4838\n",
       "OpenPorchSF       -6.2873      15.3029 -0.4109 0.6812      -36.3058      23.7312\n",
       "EnclosedPorch      6.6916      17.0190  0.3932 0.6942      -26.6932      40.0765\n",
       "3SsnPorch         21.6727      31.6870  0.6840 0.4941      -40.4854      83.8308\n",
       "ScreenPorch       55.1441      17.3306  3.1819 0.0015       21.1479      89.1403\n",
       "PoolArea         -42.4124      23.8035 -1.7818 0.0750      -89.1059       4.2810\n",
       "MiscVal           -0.8946       1.8753 -0.4770 0.6334       -4.5731       2.7840\n",
       "MoSold          -111.5227     348.4163 -0.3201 0.7490     -794.9846     571.9391\n",
       "YrSold          -817.2240     709.7266 -1.1515 0.2497    -2209.4410     574.9931\n",
       "--------------------------------------------------------------------------------\n",
       "Omnibus:                 540.774           Durbin-Watson:              1.961    \n",
       "Prob(Omnibus):           0.000             Jarque-Bera (JB):           95836.983\n",
       "Skew:                    -0.553            Prob(JB):                   0.000    \n",
       "Kurtosis:                42.676            Condition No.:              22951016 \n",
       "================================================================================\n",
       "* The condition number is large (2e+07). This might indicate             strong\n",
       "multicollinearity or other numerical problems.\n",
       "\"\"\""
      ]
     },
     "execution_count": 35,
     "metadata": {},
     "output_type": "execute_result"
    }
   ],
   "source": [
    "results.summary2()"
   ]
  },
  {
   "cell_type": "code",
   "execution_count": 36,
   "metadata": {},
   "outputs": [],
   "source": [
    "X = data.drop(['SalePrice', 'GrLivArea'], axis=1)\n",
    "Y = data.SalePrice\n",
    "#add the constant term to the data\n",
    "X = sm.add_constant(X)\n",
    "#define the model\n",
    "model = sm.OLS(Y, X)\n",
    "#fit the model\n",
    "results = model.fit_regularized(method='elastic_net')"
   ]
  },
  {
   "cell_type": "code",
   "execution_count": 37,
   "metadata": {},
   "outputs": [
    {
     "data": {
      "text/plain": [
       "const            180948.775835\n",
       "MSSubClass         -127.622608\n",
       "LotArea               0.305651\n",
       "OverallQual       16987.082244\n",
       "OverallCond       -3259.203117\n",
       "YearBuilt           -38.688357\n",
       "YearRemodAdd          0.065364\n",
       "BsmtUnfSF           -14.974283\n",
       "TotalBsmtSF          41.316682\n",
       "1stFlrSF             43.881721\n",
       "2ndFlrSF             58.306822\n",
       "LowQualFinSF         -1.964917\n",
       "BsmtFullBath       5488.545243\n",
       "FullBath           9119.596365\n",
       "HalfBath           -988.546573\n",
       "BedroomAbvGr     -18461.728228\n",
       "KitchenAbvGr     -46388.341003\n",
       "TotRmsAbvGrd       6312.164941\n",
       "Fireplaces          548.901291\n",
       "GarageCars        13378.418367\n",
       "GarageArea           -1.823197\n",
       "WoodDeckSF           27.823069\n",
       "OpenPorchSF         -11.369265\n",
       "EnclosedPorch       -45.963582\n",
       "3SsnPorch            25.214816\n",
       "ScreenPorch          38.827606\n",
       "PoolArea            -49.667080\n",
       "MiscVal               0.648200\n",
       "MoSold              -91.385910\n",
       "YrSold              -45.722478\n",
       "dtype: float64"
      ]
     },
     "execution_count": 37,
     "metadata": {},
     "output_type": "execute_result"
    }
   ],
   "source": [
    "results.params"
   ]
  },
  {
   "cell_type": "markdown",
   "metadata": {},
   "source": [
    "### Task 2: Implement feature elimination by P-value\n",
    "\n",
    "**Hints**:\n",
    "    * use cycles\n",
    "    * look to the score values (Note: R^2 is biased) and P-values of the corresponding coefficients\n",
    "    * constant term should be included \n",
    "    \n",
    "**Note:** The insignificant variable in a model could become significant in another model and vice versa\n",
    "\n",
    "**Note 2:** Two estimated models with different features are two distinct models (!)"
   ]
  },
  {
   "cell_type": "code",
   "execution_count": 38,
   "metadata": {},
   "outputs": [],
   "source": [
    "cols2 = ['MSSubClass', 'LotArea', 'OverallQual', 'OverallCond', 'YearBuilt', 'YearRemodAdd', 'BsmtUnfSF',\\\n",
    "         'TotalBsmtSF', '1stFlrSF', '2ndFlrSF', 'LowQualFinSF', 'GrLivArea', 'BsmtFullBath', 'FullBath', 'HalfBath',\\\n",
    " 'BedroomAbvGr', 'KitchenAbvGr', 'TotRmsAbvGrd', 'Fireplaces', 'GarageCars', 'GarageArea', 'WoodDeckSF', 'OpenPorchSF',\\\n",
    " 'EnclosedPorch', '3SsnPorch', 'ScreenPorch', 'PoolArea', 'MiscVal', 'MoSold', 'YrSold']"
   ]
  },
  {
   "cell_type": "code",
   "execution_count": 39,
   "metadata": {},
   "outputs": [
    {
     "ename": "AttributeError",
     "evalue": "'RegularizedResults' object has no attribute 'pvalues'",
     "output_type": "error",
     "traceback": [
      "\u001b[1;31m---------------------------------------------------------------------------\u001b[0m",
      "\u001b[1;31mAttributeError\u001b[0m                            Traceback (most recent call last)",
      "\u001b[1;32m<ipython-input-39-fa8ca6062cff>\u001b[0m in \u001b[0;36m<module>\u001b[1;34m\u001b[0m\n\u001b[0;32m      3\u001b[0m \u001b[1;33m\u001b[0m\u001b[0m\n\u001b[0;32m      4\u001b[0m \u001b[1;31m# perform feature elimination\u001b[0m\u001b[1;33m\u001b[0m\u001b[1;33m\u001b[0m\u001b[1;33m\u001b[0m\u001b[0m\n\u001b[1;32m----> 5\u001b[1;33m \u001b[1;32mwhile\u001b[0m \u001b[0mresults\u001b[0m\u001b[1;33m.\u001b[0m\u001b[0mpvalues\u001b[0m\u001b[1;33m[\u001b[0m\u001b[0mresults\u001b[0m\u001b[1;33m.\u001b[0m\u001b[0mpvalues\u001b[0m \u001b[1;33m>\u001b[0m \u001b[1;36m0.05\u001b[0m\u001b[1;33m]\u001b[0m\u001b[1;33m.\u001b[0m\u001b[0mshape\u001b[0m\u001b[1;33m[\u001b[0m\u001b[1;36m0\u001b[0m\u001b[1;33m]\u001b[0m \u001b[1;33m>\u001b[0m \u001b[1;36m0\u001b[0m\u001b[1;33m:\u001b[0m\u001b[1;33m\u001b[0m\u001b[1;33m\u001b[0m\u001b[0m\n\u001b[0m\u001b[0;32m      6\u001b[0m     \u001b[0muse_cols\u001b[0m\u001b[1;33m=\u001b[0m\u001b[0mresults\u001b[0m\u001b[1;33m.\u001b[0m\u001b[0mpvalues\u001b[0m\u001b[1;33m[\u001b[0m\u001b[0mresults\u001b[0m\u001b[1;33m.\u001b[0m\u001b[0mpvalues\u001b[0m \u001b[1;33m!=\u001b[0m \u001b[0mresults\u001b[0m\u001b[1;33m.\u001b[0m\u001b[0mpvalues\u001b[0m\u001b[1;33m.\u001b[0m\u001b[0mmax\u001b[0m\u001b[1;33m(\u001b[0m\u001b[1;33m)\u001b[0m\u001b[1;33m]\u001b[0m\u001b[1;33m.\u001b[0m\u001b[0mkeys\u001b[0m\u001b[1;33m(\u001b[0m\u001b[1;33m)\u001b[0m\u001b[1;33m.\u001b[0m\u001b[0mtolist\u001b[0m\u001b[1;33m(\u001b[0m\u001b[1;33m)\u001b[0m\u001b[1;33m\u001b[0m\u001b[1;33m\u001b[0m\u001b[0m\n\u001b[0;32m      7\u001b[0m     \u001b[0mX\u001b[0m \u001b[1;33m=\u001b[0m \u001b[0mX\u001b[0m\u001b[1;33m[\u001b[0m\u001b[0muse_cols\u001b[0m\u001b[1;33m]\u001b[0m\u001b[1;33m\u001b[0m\u001b[1;33m\u001b[0m\u001b[0m\n",
      "\u001b[1;32m~\\Anaconda3\\lib\\site-packages\\statsmodels\\base\\wrapper.py\u001b[0m in \u001b[0;36m__getattribute__\u001b[1;34m(self, attr)\u001b[0m\n\u001b[0;32m     33\u001b[0m             \u001b[1;32mpass\u001b[0m\u001b[1;33m\u001b[0m\u001b[1;33m\u001b[0m\u001b[0m\n\u001b[0;32m     34\u001b[0m \u001b[1;33m\u001b[0m\u001b[0m\n\u001b[1;32m---> 35\u001b[1;33m         \u001b[0mobj\u001b[0m \u001b[1;33m=\u001b[0m \u001b[0mgetattr\u001b[0m\u001b[1;33m(\u001b[0m\u001b[0mresults\u001b[0m\u001b[1;33m,\u001b[0m \u001b[0mattr\u001b[0m\u001b[1;33m)\u001b[0m\u001b[1;33m\u001b[0m\u001b[1;33m\u001b[0m\u001b[0m\n\u001b[0m\u001b[0;32m     36\u001b[0m         \u001b[0mdata\u001b[0m \u001b[1;33m=\u001b[0m \u001b[0mresults\u001b[0m\u001b[1;33m.\u001b[0m\u001b[0mmodel\u001b[0m\u001b[1;33m.\u001b[0m\u001b[0mdata\u001b[0m\u001b[1;33m\u001b[0m\u001b[1;33m\u001b[0m\u001b[0m\n\u001b[0;32m     37\u001b[0m         \u001b[0mhow\u001b[0m \u001b[1;33m=\u001b[0m \u001b[0mself\u001b[0m\u001b[1;33m.\u001b[0m\u001b[0m_wrap_attrs\u001b[0m\u001b[1;33m.\u001b[0m\u001b[0mget\u001b[0m\u001b[1;33m(\u001b[0m\u001b[0mattr\u001b[0m\u001b[1;33m)\u001b[0m\u001b[1;33m\u001b[0m\u001b[1;33m\u001b[0m\u001b[0m\n",
      "\u001b[1;31mAttributeError\u001b[0m: 'RegularizedResults' object has no attribute 'pvalues'"
     ]
    }
   ],
   "source": [
    "# choose alpha level\n",
    "alpha = 0.05\n",
    "\n",
    "# perform feature elimination\n",
    "while results.pvalues[results.pvalues > 0.05].shape[0] > 0:\n",
    "    use_cols=results.pvalues[results.pvalues != results.pvalues.max()].keys().tolist()\n",
    "    X = X[use_cols]\n",
    "    Y = data.SalePrice\n",
    "    #define the model\n",
    "    model = sm.OLS(Y, X)\n",
    "    #fit the model\n",
    "    results = model.fit()\n",
    "    #print the results\n",
    "    print(results.summary2())\n",
    "    print('\\n\\n\\n')"
   ]
  },
  {
   "cell_type": "code",
   "execution_count": null,
   "metadata": {},
   "outputs": [],
   "source": [
    "print('.............................Final Results..............................')\n",
    "print(results.summary2())"
   ]
  },
  {
   "cell_type": "markdown",
   "metadata": {},
   "source": [
    "## 2. Logistic Regression"
   ]
  },
  {
   "cell_type": "markdown",
   "metadata": {},
   "source": [
    "Load the dataset:"
   ]
  },
  {
   "cell_type": "code",
   "execution_count": null,
   "metadata": {},
   "outputs": [],
   "source": [
    "X, Y = sklearn.datasets.load_iris(return_X_y=True)\n",
    "names = ['sepal length', 'sepal width', 'petal length', 'petal width']\n",
    "classes = ['setosa', 'versicolor', 'virginica']\n",
    "#create pandas object\n",
    "X = pd.DataFrame(X, columns=names)\n",
    "X.head()"
   ]
  },
  {
   "cell_type": "markdown",
   "metadata": {},
   "source": [
    "Target variable is already encoded:\n",
    "    * 0 - Setosa\n",
    "    * 1 - Versicolor\n",
    "    * 2 - Verginica"
   ]
  },
  {
   "cell_type": "markdown",
   "metadata": {},
   "source": [
    "Data statistics:"
   ]
  },
  {
   "cell_type": "code",
   "execution_count": null,
   "metadata": {},
   "outputs": [],
   "source": [
    "X.describe()"
   ]
  },
  {
   "cell_type": "code",
   "execution_count": null,
   "metadata": {},
   "outputs": [],
   "source": [
    "for name in names:\n",
    "    X[name].hist(bins=9, label=name)\n",
    "    plt.legend()\n",
    "    plt.show()"
   ]
  },
  {
   "cell_type": "markdown",
   "metadata": {},
   "source": [
    "Correlation:"
   ]
  },
  {
   "cell_type": "code",
   "execution_count": null,
   "metadata": {},
   "outputs": [],
   "source": [
    "dt=pd.concat([X,pd.DataFrame(Y, columns=['target'])], axis=1)\n",
    "sns.set(style=\"white\")\n",
    "\n",
    "# Compute the correlation matrix\n",
    "corr = dt.corr()\n",
    "\n",
    "# Generate a mask for the upper triangle\n",
    "mask = np.zeros_like(corr, dtype=np.bool)\n",
    "mask[np.triu_indices_from(mask)] = True\n",
    "\n",
    "# Set up the matplotlib figure\n",
    "f, ax = plt.subplots(figsize=(11, 9))\n",
    "\n",
    "# Generate a custom diverging colormap\n",
    "cmap = sns.diverging_palette(220, 10, as_cmap=True)\n",
    "\n",
    "# Draw the heatmap with the mask and correct aspect ratio\n",
    "\n",
    "sns.heatmap(corr, mask=mask, cmap=cmap, center=0,\n",
    "            square=True, linewidths=.5, cbar_kws={\"shrink\": .5})\n",
    "plt.show()"
   ]
  },
  {
   "cell_type": "markdown",
   "metadata": {},
   "source": [
    "Another nice plots:"
   ]
  },
  {
   "cell_type": "code",
   "execution_count": null,
   "metadata": {},
   "outputs": [],
   "source": [
    "sns.pairplot(dt, kind='scatter', hue='target')\n",
    "plt.show()"
   ]
  },
  {
   "cell_type": "code",
   "execution_count": null,
   "metadata": {},
   "outputs": [],
   "source": [
    "sns.violinplot( x=dt[\"target\"], y=dt[\"sepal length\"])\n",
    "plt.plot()"
   ]
  },
  {
   "cell_type": "markdown",
   "metadata": {},
   "source": [
    "Rank of the features matrix:"
   ]
  },
  {
   "cell_type": "code",
   "execution_count": null,
   "metadata": {},
   "outputs": [],
   "source": [
    "np.linalg.matrix_rank(X)"
   ]
  },
  {
   "cell_type": "code",
   "execution_count": null,
   "metadata": {},
   "outputs": [],
   "source": [
    "#from sklearn import metrics \n",
    "logit = sm.MNLogit(Y, X)\n",
    "result = logit.fit()\n",
    "preds=np.argmax(result.predict(X).values,axis=1)\n",
    "accuracy_score(Y,preds)"
   ]
  },
  {
   "cell_type": "markdown",
   "metadata": {},
   "source": [
    "**Logistic regression with L1 regularization**"
   ]
  },
  {
   "cell_type": "code",
   "execution_count": null,
   "metadata": {},
   "outputs": [],
   "source": [
    "from sklearn import linear_model\n",
    "model=sklearn.linear_model.LogisticRegression(penalty='l1',multi_class='multinomial', solver='saga').fit(X,Y)\n",
    "preds=model.predict(X)\n",
    "accuracy_score(Y, preds)"
   ]
  },
  {
   "cell_type": "markdown",
   "metadata": {},
   "source": [
    "**Logistic regression with L2 regularization**"
   ]
  },
  {
   "cell_type": "code",
   "execution_count": null,
   "metadata": {},
   "outputs": [],
   "source": [
    "from sklearn import linear_model\n",
    "model=sklearn.linear_model.LogisticRegression(penalty='l2',multi_class='multinomial', solver='saga', fit_intercept=True).fit(X,Y)\n",
    "preds=model.predict(X)\n",
    "accuracy_score(Y, preds)"
   ]
  },
  {
   "cell_type": "code",
   "execution_count": null,
   "metadata": {},
   "outputs": [],
   "source": [
    "solvers=['newton-cg', 'sag', 'saga', 'lbfgs']\n",
    "for solver in solvers:\n",
    "    model=sklearn.linear_model.LogisticRegression(penalty='l2',multi_class='multinomial', solver=solver, fit_intercept=True).fit(X,Y)\n",
    "    preds=model.predict(X)\n",
    "    print(solver, accuracy_score(Y, preds))"
   ]
  },
  {
   "cell_type": "markdown",
   "metadata": {},
   "source": [
    "### Analysing the results"
   ]
  },
  {
   "cell_type": "markdown",
   "metadata": {},
   "source": [
    "**Visuas analysis**"
   ]
  },
  {
   "cell_type": "markdown",
   "metadata": {},
   "source": [
    "### Task 3: \n",
    "* make scatter plots of any two variables from X\n",
    "    * a) use true target labels as colors\n",
    "    * b) use predicted labels as colors\n",
    "    \n",
    "**Hint:** use sns.lmplot  \n",
    "\n",
    "* find at least 2 datapoints that was incorrectly classified"
   ]
  },
  {
   "cell_type": "markdown",
   "metadata": {},
   "source": [
    "True values:"
   ]
  },
  {
   "cell_type": "code",
   "execution_count": null,
   "metadata": {
    "scrolled": true
   },
   "outputs": [],
   "source": [
    "sns.lmplot('petal length', 'petal width', dt, hue='target', scatter=True, fit_reg=False)"
   ]
  },
  {
   "cell_type": "markdown",
   "metadata": {},
   "source": [
    "Predictions:"
   ]
  },
  {
   "cell_type": "code",
   "execution_count": null,
   "metadata": {},
   "outputs": [],
   "source": [
    "df=pd.concat([X, pd.DataFrame(preds, columns=['predictions'])], axis=1)\n",
    "sns.set_style('darkgrid')\n",
    "sns.lmplot('petal length', 'petal width', df, hue='predictions', scatter=True, fit_reg=False)"
   ]
  },
  {
   "cell_type": "markdown",
   "metadata": {},
   "source": [
    "**Confusion matrix**"
   ]
  },
  {
   "cell_type": "markdown",
   "metadata": {},
   "source": [
    "### Task 4:\n",
    "* read about confusion matrix (https://en.wikipedia.org/wiki/Confusion_matrix)\n",
    "* calculate and plot confusion matrix (https://scikit-learn.org/0.20/auto_examples/model_selection/plot_confusion_matrix.html)"
   ]
  },
  {
   "cell_type": "code",
   "execution_count": null,
   "metadata": {},
   "outputs": [],
   "source": [
    "import itertools\n",
    "from sklearn.metrics import confusion_matrix\n",
    "sns.set_style('white')\n",
    "def plot_confusion_matrix(cm, classes,\n",
    "                          title='Confusion matrix',\n",
    "                          cmap=plt.cm.Blues):\n",
    "    \n",
    "    plt.imshow(cm, interpolation='nearest', cmap=cmap)\n",
    "    plt.title(title)\n",
    "    plt.colorbar()\n",
    "    tick_marks = np.arange(len(classes))\n",
    "    plt.xticks(tick_marks, classes, rotation=45)\n",
    "    plt.yticks(tick_marks, classes)\n",
    "\n",
    "    fmt = 'd'\n",
    "    thresh = cm.max() / 2.\n",
    "    for i, j in itertools.product(range(cm.shape[0]), range(cm.shape[1])):\n",
    "        plt.text(j, i, format(cm[i, j], fmt),\n",
    "                 horizontalalignment=\"center\",\n",
    "                 color=\"white\" if cm[i, j] > thresh else \"black\")\n",
    "\n",
    "    plt.ylabel('True label')\n",
    "    plt.xlabel('Predicted label')\n",
    "    plt.tight_layout()\n",
    "\n",
    "\n",
    "# Compute confusion matrix\n",
    "cnf_matrix = confusion_matrix(Y, preds)\n",
    "np.set_printoptions(precision=2)\n",
    "\n",
    "# Plot non-normalized confusion matrix\n",
    "plt.figure()\n",
    "plot_confusion_matrix(cnf_matrix, classes=classes,\\\n",
    "                      title='Confusion matrix, without normalization')\n",
    "\n",
    "plt.show()"
   ]
  },
  {
   "cell_type": "markdown",
   "metadata": {},
   "source": [
    "### Task 5: Estimate (any) logistic regression model for two classes: versicolor and virginica\n",
    "    * 0) plot the dependence between two variables and color them by the target labels    \n",
    "    * a) form new dataset i.e. remove features setosa from the data\n",
    "    * b) estimate the model\n",
    "    * c) print accuracy score"
   ]
  },
  {
   "cell_type": "markdown",
   "metadata": {},
   "source": [
    "**plot the dependence between two variables and color them by the target labels**"
   ]
  },
  {
   "cell_type": "code",
   "execution_count": null,
   "metadata": {},
   "outputs": [],
   "source": [
    "sns.pairplot(dt[dt.target.isin([1,2])], kind ='scatter', hue='target')\n",
    "plt.show()"
   ]
  },
  {
   "cell_type": "markdown",
   "metadata": {},
   "source": [
    "**form new dataset i.e. remove features setosa from the data**"
   ]
  },
  {
   "cell_type": "code",
   "execution_count": null,
   "metadata": {},
   "outputs": [],
   "source": [
    "X = dt[dt.target.isin([1,2])].drop('target', axis=1)\n",
    "Y = dt[dt.target.isin([1,2])].target"
   ]
  },
  {
   "cell_type": "markdown",
   "metadata": {},
   "source": [
    "**estimate the model**"
   ]
  },
  {
   "cell_type": "code",
   "execution_count": null,
   "metadata": {},
   "outputs": [],
   "source": [
    "#from sklearn import metrics \n",
    "logit = sm.Logit(Y-1, X)\n",
    "result = logit.fit()"
   ]
  },
  {
   "cell_type": "markdown",
   "metadata": {},
   "source": [
    "**print accuracy score**"
   ]
  },
  {
   "cell_type": "code",
   "execution_count": null,
   "metadata": {},
   "outputs": [],
   "source": [
    "# get the predicted probabilities\n",
    "probabilities = result.predict(X).values\n",
    "# transform probabilities into predictions\n",
    "preds = np.zeros(probabilities.shape)\n",
    "preds[probabilities > 0.5] = 1"
   ]
  },
  {
   "cell_type": "code",
   "execution_count": null,
   "metadata": {},
   "outputs": [],
   "source": [
    "accuracy_score(Y-1,preds)"
   ]
  }
 ],
 "metadata": {
  "kernelspec": {
   "display_name": "Python 3",
   "language": "python",
   "name": "python3"
  },
  "language_info": {
   "codemirror_mode": {
    "name": "ipython",
    "version": 3
   },
   "file_extension": ".py",
   "mimetype": "text/x-python",
   "name": "python",
   "nbconvert_exporter": "python",
   "pygments_lexer": "ipython3",
   "version": "3.7.3"
  }
 },
 "nbformat": 4,
 "nbformat_minor": 2
}
